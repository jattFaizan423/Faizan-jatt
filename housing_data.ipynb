{
  "cells": [
    {
      "cell_type": "markdown",
      "metadata": {
        "id": "view-in-github",
        "colab_type": "text"
      },
      "source": [
        "<a href=\"https://colab.research.google.com/github/jattFaizan423/Faizan-jatt/blob/main/housing_data.ipynb\" target=\"_parent\"><img src=\"https://colab.research.google.com/assets/colab-badge.svg\" alt=\"Open In Colab\"/></a>"
      ]
    },
    {
      "cell_type": "code",
      "execution_count": null,
      "metadata": {
        "id": "5Mkwi4dh75g3"
      },
      "outputs": [],
      "source": [
        "import numpy as np\n",
        "import pandas as pd"
      ]
    },
    {
      "cell_type": "code",
      "execution_count": null,
      "metadata": {
        "id": "yIavhREn76n2"
      },
      "outputs": [],
      "source": [
        "melborn = pd.read_csv('/content/Melbourne_housing_FULL.csv')"
      ]
    },
    {
      "cell_type": "code",
      "source": [
        "melborn.head(10)"
      ],
      "metadata": {
        "colab": {
          "base_uri": "https://localhost:8080/",
          "height": 591
        },
        "id": "JyRasIw7ZZcC",
        "outputId": "bc24b1c1-6974-4c2e-f5a0-e939ee3b1bdf"
      },
      "execution_count": 75,
      "outputs": [
        {
          "output_type": "execute_result",
          "data": {
            "text/plain": [
              "       Suburb             Address  Rooms Type      Price Method  SellerG  \\\n",
              "0  Abbotsford       68 Studley St      2    h        NaN     SS   Jellis   \n",
              "1  Abbotsford        85 Turner St      2    h  1480000.0      S   Biggin   \n",
              "2  Abbotsford     25 Bloomburg St      2    h  1035000.0      S   Biggin   \n",
              "3  Abbotsford  18/659 Victoria St      3    u        NaN     VB   Rounds   \n",
              "4  Abbotsford        5 Charles St      3    h  1465000.0     SP   Biggin   \n",
              "5  Abbotsford    40 Federation La      3    h   850000.0     PI   Biggin   \n",
              "6  Abbotsford         55a Park St      4    h  1600000.0     VB   Nelson   \n",
              "7  Abbotsford        16 Maugie St      4    h        NaN     SN   Nelson   \n",
              "8  Abbotsford        53 Turner St      2    h        NaN      S   Biggin   \n",
              "9  Abbotsford        99 Turner St      2    h        NaN      S  Collins   \n",
              "\n",
              "         Date  Distance  Postcode  Bedroom2  Bathroom  Car  Landsize  \\\n",
              "0  03/09/2016       2.5    3067.0       2.0       1.0  1.0     126.0   \n",
              "1  03/12/2016       2.5    3067.0       2.0       1.0  1.0     202.0   \n",
              "2  04/02/2016       2.5    3067.0       2.0       1.0  0.0     156.0   \n",
              "3  04/02/2016       2.5    3067.0       3.0       2.0  1.0       0.0   \n",
              "4  04/03/2017       2.5    3067.0       3.0       2.0  0.0     134.0   \n",
              "5  04/03/2017       2.5    3067.0       3.0       2.0  1.0      94.0   \n",
              "6  04/06/2016       2.5    3067.0       3.0       1.0  2.0     120.0   \n",
              "7  06/08/2016       2.5    3067.0       3.0       2.0  2.0     400.0   \n",
              "8  06/08/2016       2.5    3067.0       4.0       1.0  2.0     201.0   \n",
              "9  06/08/2016       2.5    3067.0       3.0       2.0  1.0     202.0   \n",
              "\n",
              "   BuildingArea  YearBuilt         CouncilArea  Lattitude  Longtitude  \\\n",
              "0           NaN        NaN  Yarra City Council   -37.8014    144.9958   \n",
              "1           NaN        NaN  Yarra City Council   -37.7996    144.9984   \n",
              "2          79.0     1900.0  Yarra City Council   -37.8079    144.9934   \n",
              "3           NaN        NaN  Yarra City Council   -37.8114    145.0116   \n",
              "4         150.0     1900.0  Yarra City Council   -37.8093    144.9944   \n",
              "5           NaN        NaN  Yarra City Council   -37.7969    144.9969   \n",
              "6         142.0     2014.0  Yarra City Council   -37.8072    144.9941   \n",
              "7         220.0     2006.0  Yarra City Council   -37.7965    144.9965   \n",
              "8           NaN     1900.0  Yarra City Council   -37.7995    144.9974   \n",
              "9           NaN     1900.0  Yarra City Council   -37.7996    144.9989   \n",
              "\n",
              "              Regionname  Propertycount  \n",
              "0  Northern Metropolitan         4019.0  \n",
              "1  Northern Metropolitan         4019.0  \n",
              "2  Northern Metropolitan         4019.0  \n",
              "3  Northern Metropolitan         4019.0  \n",
              "4  Northern Metropolitan         4019.0  \n",
              "5  Northern Metropolitan         4019.0  \n",
              "6  Northern Metropolitan         4019.0  \n",
              "7  Northern Metropolitan         4019.0  \n",
              "8  Northern Metropolitan         4019.0  \n",
              "9  Northern Metropolitan         4019.0  "
            ],
            "text/html": [
              "\n",
              "  <div id=\"df-29f13881-42f3-4235-9db0-1c197cedceea\" class=\"colab-df-container\">\n",
              "    <div>\n",
              "<style scoped>\n",
              "    .dataframe tbody tr th:only-of-type {\n",
              "        vertical-align: middle;\n",
              "    }\n",
              "\n",
              "    .dataframe tbody tr th {\n",
              "        vertical-align: top;\n",
              "    }\n",
              "\n",
              "    .dataframe thead th {\n",
              "        text-align: right;\n",
              "    }\n",
              "</style>\n",
              "<table border=\"1\" class=\"dataframe\">\n",
              "  <thead>\n",
              "    <tr style=\"text-align: right;\">\n",
              "      <th></th>\n",
              "      <th>Suburb</th>\n",
              "      <th>Address</th>\n",
              "      <th>Rooms</th>\n",
              "      <th>Type</th>\n",
              "      <th>Price</th>\n",
              "      <th>Method</th>\n",
              "      <th>SellerG</th>\n",
              "      <th>Date</th>\n",
              "      <th>Distance</th>\n",
              "      <th>Postcode</th>\n",
              "      <th>Bedroom2</th>\n",
              "      <th>Bathroom</th>\n",
              "      <th>Car</th>\n",
              "      <th>Landsize</th>\n",
              "      <th>BuildingArea</th>\n",
              "      <th>YearBuilt</th>\n",
              "      <th>CouncilArea</th>\n",
              "      <th>Lattitude</th>\n",
              "      <th>Longtitude</th>\n",
              "      <th>Regionname</th>\n",
              "      <th>Propertycount</th>\n",
              "    </tr>\n",
              "  </thead>\n",
              "  <tbody>\n",
              "    <tr>\n",
              "      <th>0</th>\n",
              "      <td>Abbotsford</td>\n",
              "      <td>68 Studley St</td>\n",
              "      <td>2</td>\n",
              "      <td>h</td>\n",
              "      <td>NaN</td>\n",
              "      <td>SS</td>\n",
              "      <td>Jellis</td>\n",
              "      <td>03/09/2016</td>\n",
              "      <td>2.5</td>\n",
              "      <td>3067.0</td>\n",
              "      <td>2.0</td>\n",
              "      <td>1.0</td>\n",
              "      <td>1.0</td>\n",
              "      <td>126.0</td>\n",
              "      <td>NaN</td>\n",
              "      <td>NaN</td>\n",
              "      <td>Yarra City Council</td>\n",
              "      <td>-37.8014</td>\n",
              "      <td>144.9958</td>\n",
              "      <td>Northern Metropolitan</td>\n",
              "      <td>4019.0</td>\n",
              "    </tr>\n",
              "    <tr>\n",
              "      <th>1</th>\n",
              "      <td>Abbotsford</td>\n",
              "      <td>85 Turner St</td>\n",
              "      <td>2</td>\n",
              "      <td>h</td>\n",
              "      <td>1480000.0</td>\n",
              "      <td>S</td>\n",
              "      <td>Biggin</td>\n",
              "      <td>03/12/2016</td>\n",
              "      <td>2.5</td>\n",
              "      <td>3067.0</td>\n",
              "      <td>2.0</td>\n",
              "      <td>1.0</td>\n",
              "      <td>1.0</td>\n",
              "      <td>202.0</td>\n",
              "      <td>NaN</td>\n",
              "      <td>NaN</td>\n",
              "      <td>Yarra City Council</td>\n",
              "      <td>-37.7996</td>\n",
              "      <td>144.9984</td>\n",
              "      <td>Northern Metropolitan</td>\n",
              "      <td>4019.0</td>\n",
              "    </tr>\n",
              "    <tr>\n",
              "      <th>2</th>\n",
              "      <td>Abbotsford</td>\n",
              "      <td>25 Bloomburg St</td>\n",
              "      <td>2</td>\n",
              "      <td>h</td>\n",
              "      <td>1035000.0</td>\n",
              "      <td>S</td>\n",
              "      <td>Biggin</td>\n",
              "      <td>04/02/2016</td>\n",
              "      <td>2.5</td>\n",
              "      <td>3067.0</td>\n",
              "      <td>2.0</td>\n",
              "      <td>1.0</td>\n",
              "      <td>0.0</td>\n",
              "      <td>156.0</td>\n",
              "      <td>79.0</td>\n",
              "      <td>1900.0</td>\n",
              "      <td>Yarra City Council</td>\n",
              "      <td>-37.8079</td>\n",
              "      <td>144.9934</td>\n",
              "      <td>Northern Metropolitan</td>\n",
              "      <td>4019.0</td>\n",
              "    </tr>\n",
              "    <tr>\n",
              "      <th>3</th>\n",
              "      <td>Abbotsford</td>\n",
              "      <td>18/659 Victoria St</td>\n",
              "      <td>3</td>\n",
              "      <td>u</td>\n",
              "      <td>NaN</td>\n",
              "      <td>VB</td>\n",
              "      <td>Rounds</td>\n",
              "      <td>04/02/2016</td>\n",
              "      <td>2.5</td>\n",
              "      <td>3067.0</td>\n",
              "      <td>3.0</td>\n",
              "      <td>2.0</td>\n",
              "      <td>1.0</td>\n",
              "      <td>0.0</td>\n",
              "      <td>NaN</td>\n",
              "      <td>NaN</td>\n",
              "      <td>Yarra City Council</td>\n",
              "      <td>-37.8114</td>\n",
              "      <td>145.0116</td>\n",
              "      <td>Northern Metropolitan</td>\n",
              "      <td>4019.0</td>\n",
              "    </tr>\n",
              "    <tr>\n",
              "      <th>4</th>\n",
              "      <td>Abbotsford</td>\n",
              "      <td>5 Charles St</td>\n",
              "      <td>3</td>\n",
              "      <td>h</td>\n",
              "      <td>1465000.0</td>\n",
              "      <td>SP</td>\n",
              "      <td>Biggin</td>\n",
              "      <td>04/03/2017</td>\n",
              "      <td>2.5</td>\n",
              "      <td>3067.0</td>\n",
              "      <td>3.0</td>\n",
              "      <td>2.0</td>\n",
              "      <td>0.0</td>\n",
              "      <td>134.0</td>\n",
              "      <td>150.0</td>\n",
              "      <td>1900.0</td>\n",
              "      <td>Yarra City Council</td>\n",
              "      <td>-37.8093</td>\n",
              "      <td>144.9944</td>\n",
              "      <td>Northern Metropolitan</td>\n",
              "      <td>4019.0</td>\n",
              "    </tr>\n",
              "    <tr>\n",
              "      <th>5</th>\n",
              "      <td>Abbotsford</td>\n",
              "      <td>40 Federation La</td>\n",
              "      <td>3</td>\n",
              "      <td>h</td>\n",
              "      <td>850000.0</td>\n",
              "      <td>PI</td>\n",
              "      <td>Biggin</td>\n",
              "      <td>04/03/2017</td>\n",
              "      <td>2.5</td>\n",
              "      <td>3067.0</td>\n",
              "      <td>3.0</td>\n",
              "      <td>2.0</td>\n",
              "      <td>1.0</td>\n",
              "      <td>94.0</td>\n",
              "      <td>NaN</td>\n",
              "      <td>NaN</td>\n",
              "      <td>Yarra City Council</td>\n",
              "      <td>-37.7969</td>\n",
              "      <td>144.9969</td>\n",
              "      <td>Northern Metropolitan</td>\n",
              "      <td>4019.0</td>\n",
              "    </tr>\n",
              "    <tr>\n",
              "      <th>6</th>\n",
              "      <td>Abbotsford</td>\n",
              "      <td>55a Park St</td>\n",
              "      <td>4</td>\n",
              "      <td>h</td>\n",
              "      <td>1600000.0</td>\n",
              "      <td>VB</td>\n",
              "      <td>Nelson</td>\n",
              "      <td>04/06/2016</td>\n",
              "      <td>2.5</td>\n",
              "      <td>3067.0</td>\n",
              "      <td>3.0</td>\n",
              "      <td>1.0</td>\n",
              "      <td>2.0</td>\n",
              "      <td>120.0</td>\n",
              "      <td>142.0</td>\n",
              "      <td>2014.0</td>\n",
              "      <td>Yarra City Council</td>\n",
              "      <td>-37.8072</td>\n",
              "      <td>144.9941</td>\n",
              "      <td>Northern Metropolitan</td>\n",
              "      <td>4019.0</td>\n",
              "    </tr>\n",
              "    <tr>\n",
              "      <th>7</th>\n",
              "      <td>Abbotsford</td>\n",
              "      <td>16 Maugie St</td>\n",
              "      <td>4</td>\n",
              "      <td>h</td>\n",
              "      <td>NaN</td>\n",
              "      <td>SN</td>\n",
              "      <td>Nelson</td>\n",
              "      <td>06/08/2016</td>\n",
              "      <td>2.5</td>\n",
              "      <td>3067.0</td>\n",
              "      <td>3.0</td>\n",
              "      <td>2.0</td>\n",
              "      <td>2.0</td>\n",
              "      <td>400.0</td>\n",
              "      <td>220.0</td>\n",
              "      <td>2006.0</td>\n",
              "      <td>Yarra City Council</td>\n",
              "      <td>-37.7965</td>\n",
              "      <td>144.9965</td>\n",
              "      <td>Northern Metropolitan</td>\n",
              "      <td>4019.0</td>\n",
              "    </tr>\n",
              "    <tr>\n",
              "      <th>8</th>\n",
              "      <td>Abbotsford</td>\n",
              "      <td>53 Turner St</td>\n",
              "      <td>2</td>\n",
              "      <td>h</td>\n",
              "      <td>NaN</td>\n",
              "      <td>S</td>\n",
              "      <td>Biggin</td>\n",
              "      <td>06/08/2016</td>\n",
              "      <td>2.5</td>\n",
              "      <td>3067.0</td>\n",
              "      <td>4.0</td>\n",
              "      <td>1.0</td>\n",
              "      <td>2.0</td>\n",
              "      <td>201.0</td>\n",
              "      <td>NaN</td>\n",
              "      <td>1900.0</td>\n",
              "      <td>Yarra City Council</td>\n",
              "      <td>-37.7995</td>\n",
              "      <td>144.9974</td>\n",
              "      <td>Northern Metropolitan</td>\n",
              "      <td>4019.0</td>\n",
              "    </tr>\n",
              "    <tr>\n",
              "      <th>9</th>\n",
              "      <td>Abbotsford</td>\n",
              "      <td>99 Turner St</td>\n",
              "      <td>2</td>\n",
              "      <td>h</td>\n",
              "      <td>NaN</td>\n",
              "      <td>S</td>\n",
              "      <td>Collins</td>\n",
              "      <td>06/08/2016</td>\n",
              "      <td>2.5</td>\n",
              "      <td>3067.0</td>\n",
              "      <td>3.0</td>\n",
              "      <td>2.0</td>\n",
              "      <td>1.0</td>\n",
              "      <td>202.0</td>\n",
              "      <td>NaN</td>\n",
              "      <td>1900.0</td>\n",
              "      <td>Yarra City Council</td>\n",
              "      <td>-37.7996</td>\n",
              "      <td>144.9989</td>\n",
              "      <td>Northern Metropolitan</td>\n",
              "      <td>4019.0</td>\n",
              "    </tr>\n",
              "  </tbody>\n",
              "</table>\n",
              "</div>\n",
              "    <div class=\"colab-df-buttons\">\n",
              "\n",
              "  <div class=\"colab-df-container\">\n",
              "    <button class=\"colab-df-convert\" onclick=\"convertToInteractive('df-29f13881-42f3-4235-9db0-1c197cedceea')\"\n",
              "            title=\"Convert this dataframe to an interactive table.\"\n",
              "            style=\"display:none;\">\n",
              "\n",
              "  <svg xmlns=\"http://www.w3.org/2000/svg\" height=\"24px\" viewBox=\"0 -960 960 960\">\n",
              "    <path d=\"M120-120v-720h720v720H120Zm60-500h600v-160H180v160Zm220 220h160v-160H400v160Zm0 220h160v-160H400v160ZM180-400h160v-160H180v160Zm440 0h160v-160H620v160ZM180-180h160v-160H180v160Zm440 0h160v-160H620v160Z\"/>\n",
              "  </svg>\n",
              "    </button>\n",
              "\n",
              "  <style>\n",
              "    .colab-df-container {\n",
              "      display:flex;\n",
              "      gap: 12px;\n",
              "    }\n",
              "\n",
              "    .colab-df-convert {\n",
              "      background-color: #E8F0FE;\n",
              "      border: none;\n",
              "      border-radius: 50%;\n",
              "      cursor: pointer;\n",
              "      display: none;\n",
              "      fill: #1967D2;\n",
              "      height: 32px;\n",
              "      padding: 0 0 0 0;\n",
              "      width: 32px;\n",
              "    }\n",
              "\n",
              "    .colab-df-convert:hover {\n",
              "      background-color: #E2EBFA;\n",
              "      box-shadow: 0px 1px 2px rgba(60, 64, 67, 0.3), 0px 1px 3px 1px rgba(60, 64, 67, 0.15);\n",
              "      fill: #174EA6;\n",
              "    }\n",
              "\n",
              "    .colab-df-buttons div {\n",
              "      margin-bottom: 4px;\n",
              "    }\n",
              "\n",
              "    [theme=dark] .colab-df-convert {\n",
              "      background-color: #3B4455;\n",
              "      fill: #D2E3FC;\n",
              "    }\n",
              "\n",
              "    [theme=dark] .colab-df-convert:hover {\n",
              "      background-color: #434B5C;\n",
              "      box-shadow: 0px 1px 3px 1px rgba(0, 0, 0, 0.15);\n",
              "      filter: drop-shadow(0px 1px 2px rgba(0, 0, 0, 0.3));\n",
              "      fill: #FFFFFF;\n",
              "    }\n",
              "  </style>\n",
              "\n",
              "    <script>\n",
              "      const buttonEl =\n",
              "        document.querySelector('#df-29f13881-42f3-4235-9db0-1c197cedceea button.colab-df-convert');\n",
              "      buttonEl.style.display =\n",
              "        google.colab.kernel.accessAllowed ? 'block' : 'none';\n",
              "\n",
              "      async function convertToInteractive(key) {\n",
              "        const element = document.querySelector('#df-29f13881-42f3-4235-9db0-1c197cedceea');\n",
              "        const dataTable =\n",
              "          await google.colab.kernel.invokeFunction('convertToInteractive',\n",
              "                                                    [key], {});\n",
              "        if (!dataTable) return;\n",
              "\n",
              "        const docLinkHtml = 'Like what you see? Visit the ' +\n",
              "          '<a target=\"_blank\" href=https://colab.research.google.com/notebooks/data_table.ipynb>data table notebook</a>'\n",
              "          + ' to learn more about interactive tables.';\n",
              "        element.innerHTML = '';\n",
              "        dataTable['output_type'] = 'display_data';\n",
              "        await google.colab.output.renderOutput(dataTable, element);\n",
              "        const docLink = document.createElement('div');\n",
              "        docLink.innerHTML = docLinkHtml;\n",
              "        element.appendChild(docLink);\n",
              "      }\n",
              "    </script>\n",
              "  </div>\n",
              "\n",
              "\n",
              "    <div id=\"df-2aeac79d-840c-43c7-a1b2-8d53a657b86d\">\n",
              "      <button class=\"colab-df-quickchart\" onclick=\"quickchart('df-2aeac79d-840c-43c7-a1b2-8d53a657b86d')\"\n",
              "                title=\"Suggest charts\"\n",
              "                style=\"display:none;\">\n",
              "\n",
              "<svg xmlns=\"http://www.w3.org/2000/svg\" height=\"24px\"viewBox=\"0 0 24 24\"\n",
              "     width=\"24px\">\n",
              "    <g>\n",
              "        <path d=\"M19 3H5c-1.1 0-2 .9-2 2v14c0 1.1.9 2 2 2h14c1.1 0 2-.9 2-2V5c0-1.1-.9-2-2-2zM9 17H7v-7h2v7zm4 0h-2V7h2v10zm4 0h-2v-4h2v4z\"/>\n",
              "    </g>\n",
              "</svg>\n",
              "      </button>\n",
              "\n",
              "<style>\n",
              "  .colab-df-quickchart {\n",
              "      --bg-color: #E8F0FE;\n",
              "      --fill-color: #1967D2;\n",
              "      --hover-bg-color: #E2EBFA;\n",
              "      --hover-fill-color: #174EA6;\n",
              "      --disabled-fill-color: #AAA;\n",
              "      --disabled-bg-color: #DDD;\n",
              "  }\n",
              "\n",
              "  [theme=dark] .colab-df-quickchart {\n",
              "      --bg-color: #3B4455;\n",
              "      --fill-color: #D2E3FC;\n",
              "      --hover-bg-color: #434B5C;\n",
              "      --hover-fill-color: #FFFFFF;\n",
              "      --disabled-bg-color: #3B4455;\n",
              "      --disabled-fill-color: #666;\n",
              "  }\n",
              "\n",
              "  .colab-df-quickchart {\n",
              "    background-color: var(--bg-color);\n",
              "    border: none;\n",
              "    border-radius: 50%;\n",
              "    cursor: pointer;\n",
              "    display: none;\n",
              "    fill: var(--fill-color);\n",
              "    height: 32px;\n",
              "    padding: 0;\n",
              "    width: 32px;\n",
              "  }\n",
              "\n",
              "  .colab-df-quickchart:hover {\n",
              "    background-color: var(--hover-bg-color);\n",
              "    box-shadow: 0 1px 2px rgba(60, 64, 67, 0.3), 0 1px 3px 1px rgba(60, 64, 67, 0.15);\n",
              "    fill: var(--button-hover-fill-color);\n",
              "  }\n",
              "\n",
              "  .colab-df-quickchart-complete:disabled,\n",
              "  .colab-df-quickchart-complete:disabled:hover {\n",
              "    background-color: var(--disabled-bg-color);\n",
              "    fill: var(--disabled-fill-color);\n",
              "    box-shadow: none;\n",
              "  }\n",
              "\n",
              "  .colab-df-spinner {\n",
              "    border: 2px solid var(--fill-color);\n",
              "    border-color: transparent;\n",
              "    border-bottom-color: var(--fill-color);\n",
              "    animation:\n",
              "      spin 1s steps(1) infinite;\n",
              "  }\n",
              "\n",
              "  @keyframes spin {\n",
              "    0% {\n",
              "      border-color: transparent;\n",
              "      border-bottom-color: var(--fill-color);\n",
              "      border-left-color: var(--fill-color);\n",
              "    }\n",
              "    20% {\n",
              "      border-color: transparent;\n",
              "      border-left-color: var(--fill-color);\n",
              "      border-top-color: var(--fill-color);\n",
              "    }\n",
              "    30% {\n",
              "      border-color: transparent;\n",
              "      border-left-color: var(--fill-color);\n",
              "      border-top-color: var(--fill-color);\n",
              "      border-right-color: var(--fill-color);\n",
              "    }\n",
              "    40% {\n",
              "      border-color: transparent;\n",
              "      border-right-color: var(--fill-color);\n",
              "      border-top-color: var(--fill-color);\n",
              "    }\n",
              "    60% {\n",
              "      border-color: transparent;\n",
              "      border-right-color: var(--fill-color);\n",
              "    }\n",
              "    80% {\n",
              "      border-color: transparent;\n",
              "      border-right-color: var(--fill-color);\n",
              "      border-bottom-color: var(--fill-color);\n",
              "    }\n",
              "    90% {\n",
              "      border-color: transparent;\n",
              "      border-bottom-color: var(--fill-color);\n",
              "    }\n",
              "  }\n",
              "</style>\n",
              "\n",
              "      <script>\n",
              "        async function quickchart(key) {\n",
              "          const quickchartButtonEl =\n",
              "            document.querySelector('#' + key + ' button');\n",
              "          quickchartButtonEl.disabled = true;  // To prevent multiple clicks.\n",
              "          quickchartButtonEl.classList.add('colab-df-spinner');\n",
              "          try {\n",
              "            const charts = await google.colab.kernel.invokeFunction(\n",
              "                'suggestCharts', [key], {});\n",
              "          } catch (error) {\n",
              "            console.error('Error during call to suggestCharts:', error);\n",
              "          }\n",
              "          quickchartButtonEl.classList.remove('colab-df-spinner');\n",
              "          quickchartButtonEl.classList.add('colab-df-quickchart-complete');\n",
              "        }\n",
              "        (() => {\n",
              "          let quickchartButtonEl =\n",
              "            document.querySelector('#df-2aeac79d-840c-43c7-a1b2-8d53a657b86d button');\n",
              "          quickchartButtonEl.style.display =\n",
              "            google.colab.kernel.accessAllowed ? 'block' : 'none';\n",
              "        })();\n",
              "      </script>\n",
              "    </div>\n",
              "\n",
              "    </div>\n",
              "  </div>\n"
            ],
            "application/vnd.google.colaboratory.intrinsic+json": {
              "type": "dataframe",
              "variable_name": "melborn"
            }
          },
          "metadata": {},
          "execution_count": 75
        }
      ]
    },
    {
      "cell_type": "code",
      "execution_count": null,
      "metadata": {
        "id": "b-YcKRI58SzT"
      },
      "outputs": [],
      "source": [
        "\n",
        "df = melborn.copy()"
      ]
    },
    {
      "cell_type": "code",
      "execution_count": null,
      "metadata": {
        "id": "QsDPO_ZSFTE-"
      },
      "outputs": [],
      "source": [
        "pd.set_option('display.max_columns',None)"
      ]
    },
    {
      "cell_type": "code",
      "execution_count": null,
      "metadata": {
        "id": "lwm4GNElFbnj"
      },
      "outputs": [],
      "source": [
        "pd.set_option('display.max_rows',None)"
      ]
    },
    {
      "cell_type": "code",
      "execution_count": null,
      "metadata": {
        "id": "dBi4yMhD8lSN"
      },
      "outputs": [],
      "source": [
        "df['Suburb'] = df['Suburb'].astype('category')"
      ]
    },
    {
      "cell_type": "code",
      "execution_count": null,
      "metadata": {
        "id": "VPju0dWTX_a7"
      },
      "outputs": [],
      "source": [
        "df['address'] = df['Address'].str.lower().str.strip().str.split(' ',n=1).str[0]"
      ]
    },
    {
      "cell_type": "code",
      "execution_count": null,
      "metadata": {
        "id": "qDKBMGBSbVSM"
      },
      "outputs": [],
      "source": [
        "df['address'] = df['address'].str.replace(r'[a-zA-Z]', '', regex=True)"
      ]
    },
    {
      "cell_type": "code",
      "execution_count": null,
      "metadata": {
        "id": "xAqCCmOrdeN7"
      },
      "outputs": [],
      "source": [
        "unit_no = df['address'].str.split('/').str[0]"
      ]
    },
    {
      "cell_type": "code",
      "execution_count": null,
      "metadata": {
        "id": "cxFq9gzXdw2L"
      },
      "outputs": [],
      "source": [
        "df.insert(1,'unit_no',unit_no)"
      ]
    },
    {
      "cell_type": "code",
      "execution_count": null,
      "metadata": {
        "id": "H5fy5rUsgpT4"
      },
      "outputs": [],
      "source": [
        "df['unit_no'] = df['unit_no'].astype('int32')"
      ]
    },
    {
      "cell_type": "code",
      "execution_count": null,
      "metadata": {
        "id": "NMM_o63-d8jk"
      },
      "outputs": [],
      "source": [
        "street_no = df['address'].str.split('/').str[1].fillna('no_street_number')"
      ]
    },
    {
      "cell_type": "code",
      "execution_count": null,
      "metadata": {
        "id": "GMsjZu79ftxV"
      },
      "outputs": [],
      "source": [
        "df.insert(2,'street_no',street_no)"
      ]
    },
    {
      "cell_type": "code",
      "execution_count": null,
      "metadata": {
        "id": "WE1okH-KgwLX"
      },
      "outputs": [],
      "source": [
        "df['street_no'] = df['street_no'].astype('category')"
      ]
    },
    {
      "cell_type": "code",
      "execution_count": null,
      "metadata": {
        "id": "Sgk8zMyVCS5C"
      },
      "outputs": [],
      "source": [
        "street_name = df['Address'].str.strip().str.split(' ',n=1).str[1]"
      ]
    },
    {
      "cell_type": "code",
      "execution_count": null,
      "metadata": {
        "id": "Wz864TvegLqz"
      },
      "outputs": [],
      "source": [
        "df.insert(3,'street_name',street_name)"
      ]
    },
    {
      "cell_type": "code",
      "execution_count": null,
      "metadata": {
        "id": "IaIUFxUeg7Xv"
      },
      "outputs": [],
      "source": [
        "df['street_name'] = df['street_name'].astype('category')"
      ]
    },
    {
      "cell_type": "code",
      "execution_count": null,
      "metadata": {
        "id": "2m52LB3SCUc-"
      },
      "outputs": [],
      "source": [
        "df['Rooms'] = df['Rooms'].astype('int32')"
      ]
    },
    {
      "cell_type": "code",
      "execution_count": null,
      "metadata": {
        "colab": {
          "base_uri": "https://localhost:8080/",
          "height": 210
        },
        "id": "ajlZl_It96cL",
        "outputId": "c72d2297-e516-4ae5-9f29-40f4db28f1ef"
      },
      "outputs": [
        {
          "data": {
            "text/html": [
              "<div>\n",
              "<style scoped>\n",
              "    .dataframe tbody tr th:only-of-type {\n",
              "        vertical-align: middle;\n",
              "    }\n",
              "\n",
              "    .dataframe tbody tr th {\n",
              "        vertical-align: top;\n",
              "    }\n",
              "\n",
              "    .dataframe thead th {\n",
              "        text-align: right;\n",
              "    }\n",
              "</style>\n",
              "<table border=\"1\" class=\"dataframe\">\n",
              "  <thead>\n",
              "    <tr style=\"text-align: right;\">\n",
              "      <th></th>\n",
              "      <th>count</th>\n",
              "    </tr>\n",
              "    <tr>\n",
              "      <th>Type</th>\n",
              "      <th></th>\n",
              "    </tr>\n",
              "  </thead>\n",
              "  <tbody>\n",
              "    <tr>\n",
              "      <th>h</th>\n",
              "      <td>23980</td>\n",
              "    </tr>\n",
              "    <tr>\n",
              "      <th>u</th>\n",
              "      <td>7297</td>\n",
              "    </tr>\n",
              "    <tr>\n",
              "      <th>t</th>\n",
              "      <td>3580</td>\n",
              "    </tr>\n",
              "  </tbody>\n",
              "</table>\n",
              "</div><br><label><b>dtype:</b> int64</label>"
            ],
            "text/plain": [
              "Type\n",
              "h    23980\n",
              "u     7297\n",
              "t     3580\n",
              "Name: count, dtype: int64"
            ]
          },
          "execution_count": 19,
          "metadata": {},
          "output_type": "execute_result"
        }
      ],
      "source": [
        "df['Type'].value_counts()"
      ]
    },
    {
      "cell_type": "code",
      "execution_count": null,
      "metadata": {
        "id": "GL8zvxNHXcnL"
      },
      "outputs": [],
      "source": [
        "house = df['Type'].apply(lambda x :1 if x == 'h' else 0)"
      ]
    },
    {
      "cell_type": "code",
      "execution_count": null,
      "metadata": {
        "id": "QnhgVmCUiovG"
      },
      "outputs": [],
      "source": [
        "df.insert(6,'house',house)"
      ]
    },
    {
      "cell_type": "code",
      "execution_count": null,
      "metadata": {
        "id": "M1tzuKnHjJqs"
      },
      "outputs": [],
      "source": [
        "df['house'] = df['house'].astype('int32')"
      ]
    },
    {
      "cell_type": "code",
      "execution_count": null,
      "metadata": {
        "id": "Y0iWilWTiVWr"
      },
      "outputs": [],
      "source": [
        "apartment = df['Type'].apply(lambda x :1 if x == 'u' else 0)"
      ]
    },
    {
      "cell_type": "code",
      "execution_count": null,
      "metadata": {
        "id": "7Uszsh_li6Y0"
      },
      "outputs": [],
      "source": [
        "df.insert(7,'apartment',apartment)"
      ]
    },
    {
      "cell_type": "code",
      "execution_count": null,
      "metadata": {
        "id": "rBSqV2J7jSC-"
      },
      "outputs": [],
      "source": [
        "df['apartment'] = df['apartment'].astype('int32')"
      ]
    },
    {
      "cell_type": "code",
      "execution_count": null,
      "metadata": {
        "id": "W8XpBYtBiV7r"
      },
      "outputs": [],
      "source": [
        "townhouse = df['Type'].apply(lambda x :1 if x == 't' else 0)"
      ]
    },
    {
      "cell_type": "code",
      "execution_count": null,
      "metadata": {
        "id": "Kn7qNiSnjAjG"
      },
      "outputs": [],
      "source": [
        "df.insert(8,'townhouse',townhouse)"
      ]
    },
    {
      "cell_type": "code",
      "execution_count": null,
      "metadata": {
        "id": "4RtqZPcKjkNg"
      },
      "outputs": [],
      "source": [
        "df['townhouse'] = df['townhouse'].astype('int32')"
      ]
    },
    {
      "cell_type": "code",
      "execution_count": null,
      "metadata": {
        "id": "zdjaIKoUiuYH"
      },
      "outputs": [],
      "source": [
        "from sklearn.experimental import enable_iterative_imputer\n",
        "from sklearn.impute import IterativeImputer\n",
        "\n",
        "# Use features correlated with Price (e.g., Rooms, Distance, Bedroom2)\n",
        "imputer = IterativeImputer()\n",
        "df['Price'] = imputer.fit_transform(df[['Price', 'Rooms', 'Distance', 'Landsize']])[:, 0]"
      ]
    },
    {
      "cell_type": "code",
      "execution_count": null,
      "metadata": {
        "id": "n9aqJV0Hive1"
      },
      "outputs": [],
      "source": [
        "df['Price'] = df['Price'].astype('int64')"
      ]
    },
    {
      "cell_type": "code",
      "execution_count": null,
      "metadata": {
        "id": "J5PwtB0j9MLe"
      },
      "outputs": [],
      "source": [
        "def explain_method(method_code):\n",
        "    method_map = {\n",
        "        'S': 'Private Sale',\n",
        "        'SP': 'Disclosed Sale',\n",
        "        'PI': 'Passed In',\n",
        "        'VB': 'Vendor Bid',\n",
        "        'SN': 'Sold (Hidden)',\n",
        "        'PN': 'No Bids',\n",
        "        'SA': 'Sold After',\n",
        "        'W': 'Withdrawn',\n",
        "        'SS': 'Sold Early'\n",
        "    }\n",
        "\n",
        "    return method_map.get(method_code, f\"Unknown method: {method_code}\")"
      ]
    },
    {
      "cell_type": "code",
      "execution_count": null,
      "metadata": {
        "id": "ELhpD7uejwNC"
      },
      "outputs": [],
      "source": [
        "df['Method'] = df['Method'].apply(explain_method)"
      ]
    },
    {
      "cell_type": "code",
      "execution_count": null,
      "metadata": {
        "id": "twfUMaYm_KPb"
      },
      "outputs": [],
      "source": [
        "df['Method'] = df['Method'].astype('category')"
      ]
    },
    {
      "cell_type": "code",
      "execution_count": null,
      "metadata": {
        "id": "KNtHiWJU_R5s"
      },
      "outputs": [],
      "source": [
        "df['SellerG'] = df['SellerG'].astype('category')"
      ]
    },
    {
      "cell_type": "code",
      "execution_count": null,
      "metadata": {
        "id": "qdVyqvIyDkFS"
      },
      "outputs": [],
      "source": [
        "df['Date'] = pd.to_datetime(df['Date'], dayfirst=True)"
      ]
    },
    {
      "cell_type": "code",
      "execution_count": null,
      "metadata": {
        "id": "1NOTG2MPERvl"
      },
      "outputs": [],
      "source": [
        "df['Distance'] = df['Distance'].fillna('11.2')"
      ]
    },
    {
      "cell_type": "code",
      "execution_count": null,
      "metadata": {
        "id": "FrHd38XqFPfj"
      },
      "outputs": [],
      "source": [
        "df['Distance'] = df['Distance'].astype(float)"
      ]
    },
    {
      "cell_type": "code",
      "execution_count": null,
      "metadata": {
        "id": "fTQlsDAUFnxt"
      },
      "outputs": [],
      "source": [
        "df['Postcode'] = df['Postcode'].fillna('3073.0')"
      ]
    },
    {
      "cell_type": "code",
      "execution_count": null,
      "metadata": {
        "id": "KhvWc9BAGDv0"
      },
      "outputs": [],
      "source": [
        "df['Postcode'] = df['Postcode'].astype(str).str.replace('\\.0$', '', regex=True)"
      ]
    },
    {
      "cell_type": "code",
      "execution_count": null,
      "metadata": {
        "id": "dnlWx4j0HDAr"
      },
      "outputs": [],
      "source": [
        "df['Postcode'] = df['Postcode'].astype('int64')"
      ]
    },
    {
      "cell_type": "code",
      "execution_count": null,
      "metadata": {
        "id": "x9SI7uQePG19"
      },
      "outputs": [],
      "source": [
        "df['Bedroom2'] = df['Bedroom2'].fillna(3.0)"
      ]
    },
    {
      "cell_type": "code",
      "execution_count": null,
      "metadata": {
        "id": "6RgMgNrNTSv9"
      },
      "outputs": [],
      "source": [
        "df['Bedroom2'] = df['Bedroom2'].astype('int32')"
      ]
    },
    {
      "cell_type": "code",
      "execution_count": null,
      "metadata": {
        "id": "lcxQXXRoQusY"
      },
      "outputs": [],
      "source": [
        "df.drop([2536,12043,26210,27150,27390,27391],inplace=True)"
      ]
    },
    {
      "cell_type": "code",
      "execution_count": null,
      "metadata": {
        "id": "vyy5dY4tOzwG"
      },
      "outputs": [],
      "source": [
        "df['Bathroom'] = df.groupby(['Rooms', 'Type'])['Bathroom'].transform(lambda x: x.fillna(x.median()))"
      ]
    },
    {
      "cell_type": "code",
      "execution_count": null,
      "metadata": {
        "id": "hL2BoOc1W0QV"
      },
      "outputs": [],
      "source": [
        "df['Bathroom'] = df['Bathroom'].fillna(1.0)"
      ]
    },
    {
      "cell_type": "code",
      "execution_count": null,
      "metadata": {
        "id": "0e5zVdExXNJr"
      },
      "outputs": [],
      "source": [
        "df['Bathroom'] = df['Bathroom'].astype('int32')"
      ]
    },
    {
      "cell_type": "code",
      "execution_count": null,
      "metadata": {
        "id": "L7dvkK9JYbJt"
      },
      "outputs": [],
      "source": [
        "df['Car'] = df['Car'].fillna(2.0)"
      ]
    },
    {
      "cell_type": "code",
      "execution_count": null,
      "metadata": {
        "id": "xUtm3umNZW9Z"
      },
      "outputs": [],
      "source": [
        "df['Car'] = df['Car'].astype('int32')"
      ]
    },
    {
      "cell_type": "code",
      "execution_count": null,
      "metadata": {
        "id": "eQZatZYHwM36"
      },
      "outputs": [],
      "source": [
        "df['Landsize'] = df['Landsize'].mask(df['Landsize'] == 0.0, np.nan)"
      ]
    },
    {
      "cell_type": "code",
      "execution_count": null,
      "metadata": {
        "colab": {
          "base_uri": "https://localhost:8080/"
        },
        "id": "yV-M3Vo5xDJe",
        "outputId": "323be152-a879-4d89-8df8-e6dd40745a35"
      },
      "outputs": [
        {
          "name": "stderr",
          "output_type": "stream",
          "text": [
            "/tmp/ipython-input-50-769034944.py:1: FutureWarning: The default of observed=False is deprecated and will be changed to True in a future version of pandas. Pass observed=False to retain current behavior or observed=True to adopt the future default and silence this warning.\n",
            "  df['Landsize'] = df.groupby('Suburb')['Landsize'].transform(lambda x: x.fillna(x.median()))\n"
          ]
        }
      ],
      "source": [
        "df['Landsize'] = df.groupby('Suburb')['Landsize'].transform(lambda x: x.fillna(x.median()))"
      ]
    },
    {
      "cell_type": "code",
      "execution_count": null,
      "metadata": {
        "id": "osVYD62UxNqK"
      },
      "outputs": [],
      "source": [
        "df['Landsize'] = df['Landsize'].fillna(585.0)"
      ]
    },
    {
      "cell_type": "code",
      "execution_count": null,
      "metadata": {
        "id": "F1cs4s8GZxgV"
      },
      "outputs": [],
      "source": [
        "# Simple version\n",
        "df['BuildingArea'] = df.groupby(['Type', 'Rooms', 'Bathroom'])['BuildingArea'].transform(\n",
        "    lambda x: x.fillna(x.median())\n",
        ")\n",
        "df['BuildingArea'] = df['BuildingArea'].fillna(df['BuildingArea'].median())"
      ]
    },
    {
      "cell_type": "code",
      "execution_count": null,
      "metadata": {
        "colab": {
          "base_uri": "https://localhost:8080/"
        },
        "id": "d8rYuHHuiXuR",
        "outputId": "f85480d1-3823-4bb7-cbb7-2f378d19c9e4"
      },
      "outputs": [
        {
          "name": "stderr",
          "output_type": "stream",
          "text": [
            "/tmp/ipython-input-53-2981038322.py:1: FutureWarning: The default of observed=False is deprecated and will be changed to True in a future version of pandas. Pass observed=False to retain current behavior or observed=True to adopt the future default and silence this warning.\n",
            "  df['YearBuilt'] = df.groupby('Suburb')['YearBuilt'].transform(lambda x: x.fillna(x.median()))\n"
          ]
        }
      ],
      "source": [
        "df['YearBuilt'] = df.groupby('Suburb')['YearBuilt'].transform(lambda x: x.fillna(x.median()))"
      ]
    },
    {
      "cell_type": "code",
      "execution_count": null,
      "metadata": {
        "id": "7w4iAEqzl9V8"
      },
      "outputs": [],
      "source": [
        "df['YearBuilt'] = df['YearBuilt'].fillna(1970.0)"
      ]
    },
    {
      "cell_type": "code",
      "execution_count": null,
      "metadata": {
        "id": "-7n-r_Y7mI6f"
      },
      "outputs": [],
      "source": [
        "df['YearBuilt'] = df['YearBuilt'].astype('int64')"
      ]
    },
    {
      "cell_type": "code",
      "execution_count": null,
      "metadata": {
        "id": "42qERerIlqz4"
      },
      "outputs": [],
      "source": [
        "df['CouncilArea'] = df['CouncilArea'].fillna('Boroondara City Council')"
      ]
    },
    {
      "cell_type": "code",
      "execution_count": null,
      "metadata": {
        "id": "qmBRKnzlmYUT"
      },
      "outputs": [],
      "source": [
        "df['CouncilArea'] = df['CouncilArea'].astype('category')"
      ]
    },
    {
      "cell_type": "code",
      "execution_count": null,
      "metadata": {
        "id": "S2IxZ80vmiIe"
      },
      "outputs": [],
      "source": [
        "df['Regionname'] = df['Regionname'].fillna('Southern Metropolitan')"
      ]
    },
    {
      "cell_type": "code",
      "execution_count": null,
      "metadata": {
        "id": "0s80r-KqSNSk"
      },
      "outputs": [],
      "source": [
        "region_direction = df['Regionname'].str.lower().str.strip().str.replace('-','').str.split(' ').str[0]"
      ]
    },
    {
      "cell_type": "code",
      "execution_count": null,
      "metadata": {
        "id": "T4j4JoS1S6Vn"
      },
      "outputs": [],
      "source": [
        "df.insert(25,'region_direction',region_direction)"
      ]
    },
    {
      "cell_type": "code",
      "execution_count": null,
      "metadata": {
        "id": "dwWeKx7CTdKz"
      },
      "outputs": [],
      "source": [
        "df['region_direction'] = df['region_direction'].astype('category')"
      ]
    },
    {
      "cell_type": "code",
      "execution_count": null,
      "metadata": {
        "id": "xeGIxC6jTPJy"
      },
      "outputs": [],
      "source": [
        "region_type = df['Regionname'].str.lower().str.strip().str.replace('-','').str.split(' ').str[1]"
      ]
    },
    {
      "cell_type": "code",
      "execution_count": null,
      "metadata": {
        "id": "Y-sWDsAPTPUt"
      },
      "outputs": [],
      "source": [
        "df.insert(26,'region_type',region_type)"
      ]
    },
    {
      "cell_type": "code",
      "execution_count": null,
      "metadata": {
        "id": "yk5nV-fhTiOu"
      },
      "outputs": [],
      "source": [
        "df['region_type'] = df['region_type'].astype('category')"
      ]
    },
    {
      "cell_type": "code",
      "execution_count": null,
      "metadata": {
        "id": "NZFjy9ZgvV-P"
      },
      "outputs": [],
      "source": [
        "df['Propertycount'] = df['Propertycount'].fillna(21650.0)"
      ]
    },
    {
      "cell_type": "code",
      "execution_count": null,
      "metadata": {
        "id": "QHRNti4vuvpd"
      },
      "outputs": [],
      "source": [
        "df['Propertycount'] = df['Propertycount'].astype('int32')"
      ]
    },
    {
      "cell_type": "code",
      "execution_count": null,
      "metadata": {
        "id": "MnSqH0eXQxzL"
      },
      "outputs": [],
      "source": [
        "df.drop(df[df['Landsize'] == 2.0].index,inplace=True)"
      ]
    },
    {
      "cell_type": "code",
      "execution_count": null,
      "metadata": {
        "id": "E6a5pT4m-wY6"
      },
      "outputs": [],
      "source": [
        "df.drop(['Address','Type','Lattitude','Longtitude','Regionname','address'],axis=1,inplace=True)"
      ]
    },
    {
      "cell_type": "code",
      "execution_count": 77,
      "metadata": {
        "colab": {
          "base_uri": "https://localhost:8080/",
          "height": 654
        },
        "id": "3dh9HY7CUMFr",
        "outputId": "52078a84-ec59-4596-92f8-af174e33284f"
      },
      "outputs": [
        {
          "output_type": "execute_result",
          "data": {
            "text/plain": [
              "        Suburb  unit_no         street_no    street_name  Rooms  house  \\\n",
              "0   Abbotsford       68  no_street_number     Studley St      2      1   \n",
              "1   Abbotsford       85  no_street_number      Turner St      2      1   \n",
              "2   Abbotsford       25  no_street_number   Bloomburg St      2      1   \n",
              "3   Abbotsford       18               659    Victoria St      3      0   \n",
              "4   Abbotsford        5  no_street_number     Charles St      3      1   \n",
              "5   Abbotsford       40  no_street_number  Federation La      3      1   \n",
              "6   Abbotsford       55  no_street_number        Park St      4      1   \n",
              "7   Abbotsford       16  no_street_number      Maugie St      4      1   \n",
              "8   Abbotsford       53  no_street_number      Turner St      2      1   \n",
              "9   Abbotsford       99  no_street_number      Turner St      2      1   \n",
              "10  Abbotsford      129  no_street_number     Charles St      2      1   \n",
              "11  Abbotsford      124  no_street_number       Yarra St      3      1   \n",
              "\n",
              "    apartment  townhouse    Price          Method  SellerG       Date  \\\n",
              "0           0          0   978323      Sold Early   Jellis 2016-09-03   \n",
              "1           0          0  1480000    Private Sale   Biggin 2016-12-03   \n",
              "2           0          0  1035000    Private Sale   Biggin 2016-02-04   \n",
              "3           1          0  1360378      Vendor Bid   Rounds 2016-02-04   \n",
              "4           0          0  1465000  Disclosed Sale   Biggin 2017-03-04   \n",
              "5           0          0   850000       Passed In   Biggin 2017-03-04   \n",
              "6           0          0  1600000      Vendor Bid   Nelson 2016-06-04   \n",
              "7           0          0  1747002   Sold (Hidden)   Nelson 2016-08-06   \n",
              "8           0          0   978974    Private Sale   Biggin 2016-08-06   \n",
              "9           0          0   978983    Private Sale  Collins 2016-08-06   \n",
              "10          0          0   941000    Private Sale   Jellis 2016-05-07   \n",
              "11          0          0  1876000    Private Sale   Nelson 2016-05-07   \n",
              "\n",
              "    Distance  Postcode  Bedroom2  Bathroom  Car  Landsize  BuildingArea  \\\n",
              "0        2.5      3067         2         1    1     126.0          95.0   \n",
              "1        2.5      3067         2         1    1     202.0          95.0   \n",
              "2        2.5      3067         2         1    0     156.0          79.0   \n",
              "3        2.5      3067         3         2    1     174.0         123.0   \n",
              "4        2.5      3067         3         2    0     134.0         150.0   \n",
              "5        2.5      3067         3         2    1      94.0         148.0   \n",
              "6        2.5      3067         3         1    2     120.0         142.0   \n",
              "7        2.5      3067         3         2    2     400.0         220.0   \n",
              "8        2.5      3067         4         1    2     201.0          95.0   \n",
              "9        2.5      3067         3         2    1     202.0         121.0   \n",
              "10       2.5      3067         2         1    0     181.0          95.0   \n",
              "11       2.5      3067         4         2    0     245.0         210.0   \n",
              "\n",
              "    YearBuilt         CouncilArea region_direction   region_type  \\\n",
              "0        1922  Yarra City Council         northern  metropolitan   \n",
              "1        1922  Yarra City Council         northern  metropolitan   \n",
              "2        1900  Yarra City Council         northern  metropolitan   \n",
              "3        1922  Yarra City Council         northern  metropolitan   \n",
              "4        1900  Yarra City Council         northern  metropolitan   \n",
              "5        1922  Yarra City Council         northern  metropolitan   \n",
              "6        2014  Yarra City Council         northern  metropolitan   \n",
              "7        2006  Yarra City Council         northern  metropolitan   \n",
              "8        1900  Yarra City Council         northern  metropolitan   \n",
              "9        1900  Yarra City Council         northern  metropolitan   \n",
              "10       1922  Yarra City Council         northern  metropolitan   \n",
              "11       1910  Yarra City Council         northern  metropolitan   \n",
              "\n",
              "    Propertycount  \n",
              "0            4019  \n",
              "1            4019  \n",
              "2            4019  \n",
              "3            4019  \n",
              "4            4019  \n",
              "5            4019  \n",
              "6            4019  \n",
              "7            4019  \n",
              "8            4019  \n",
              "9            4019  \n",
              "10           4019  \n",
              "11           4019  "
            ],
            "text/html": [
              "\n",
              "  <div id=\"df-7763bc47-b7e3-4a5c-9b4b-aa67454e3acd\" class=\"colab-df-container\">\n",
              "    <div>\n",
              "<style scoped>\n",
              "    .dataframe tbody tr th:only-of-type {\n",
              "        vertical-align: middle;\n",
              "    }\n",
              "\n",
              "    .dataframe tbody tr th {\n",
              "        vertical-align: top;\n",
              "    }\n",
              "\n",
              "    .dataframe thead th {\n",
              "        text-align: right;\n",
              "    }\n",
              "</style>\n",
              "<table border=\"1\" class=\"dataframe\">\n",
              "  <thead>\n",
              "    <tr style=\"text-align: right;\">\n",
              "      <th></th>\n",
              "      <th>Suburb</th>\n",
              "      <th>unit_no</th>\n",
              "      <th>street_no</th>\n",
              "      <th>street_name</th>\n",
              "      <th>Rooms</th>\n",
              "      <th>house</th>\n",
              "      <th>apartment</th>\n",
              "      <th>townhouse</th>\n",
              "      <th>Price</th>\n",
              "      <th>Method</th>\n",
              "      <th>SellerG</th>\n",
              "      <th>Date</th>\n",
              "      <th>Distance</th>\n",
              "      <th>Postcode</th>\n",
              "      <th>Bedroom2</th>\n",
              "      <th>Bathroom</th>\n",
              "      <th>Car</th>\n",
              "      <th>Landsize</th>\n",
              "      <th>BuildingArea</th>\n",
              "      <th>YearBuilt</th>\n",
              "      <th>CouncilArea</th>\n",
              "      <th>region_direction</th>\n",
              "      <th>region_type</th>\n",
              "      <th>Propertycount</th>\n",
              "    </tr>\n",
              "  </thead>\n",
              "  <tbody>\n",
              "    <tr>\n",
              "      <th>0</th>\n",
              "      <td>Abbotsford</td>\n",
              "      <td>68</td>\n",
              "      <td>no_street_number</td>\n",
              "      <td>Studley St</td>\n",
              "      <td>2</td>\n",
              "      <td>1</td>\n",
              "      <td>0</td>\n",
              "      <td>0</td>\n",
              "      <td>978323</td>\n",
              "      <td>Sold Early</td>\n",
              "      <td>Jellis</td>\n",
              "      <td>2016-09-03</td>\n",
              "      <td>2.5</td>\n",
              "      <td>3067</td>\n",
              "      <td>2</td>\n",
              "      <td>1</td>\n",
              "      <td>1</td>\n",
              "      <td>126.0</td>\n",
              "      <td>95.0</td>\n",
              "      <td>1922</td>\n",
              "      <td>Yarra City Council</td>\n",
              "      <td>northern</td>\n",
              "      <td>metropolitan</td>\n",
              "      <td>4019</td>\n",
              "    </tr>\n",
              "    <tr>\n",
              "      <th>1</th>\n",
              "      <td>Abbotsford</td>\n",
              "      <td>85</td>\n",
              "      <td>no_street_number</td>\n",
              "      <td>Turner St</td>\n",
              "      <td>2</td>\n",
              "      <td>1</td>\n",
              "      <td>0</td>\n",
              "      <td>0</td>\n",
              "      <td>1480000</td>\n",
              "      <td>Private Sale</td>\n",
              "      <td>Biggin</td>\n",
              "      <td>2016-12-03</td>\n",
              "      <td>2.5</td>\n",
              "      <td>3067</td>\n",
              "      <td>2</td>\n",
              "      <td>1</td>\n",
              "      <td>1</td>\n",
              "      <td>202.0</td>\n",
              "      <td>95.0</td>\n",
              "      <td>1922</td>\n",
              "      <td>Yarra City Council</td>\n",
              "      <td>northern</td>\n",
              "      <td>metropolitan</td>\n",
              "      <td>4019</td>\n",
              "    </tr>\n",
              "    <tr>\n",
              "      <th>2</th>\n",
              "      <td>Abbotsford</td>\n",
              "      <td>25</td>\n",
              "      <td>no_street_number</td>\n",
              "      <td>Bloomburg St</td>\n",
              "      <td>2</td>\n",
              "      <td>1</td>\n",
              "      <td>0</td>\n",
              "      <td>0</td>\n",
              "      <td>1035000</td>\n",
              "      <td>Private Sale</td>\n",
              "      <td>Biggin</td>\n",
              "      <td>2016-02-04</td>\n",
              "      <td>2.5</td>\n",
              "      <td>3067</td>\n",
              "      <td>2</td>\n",
              "      <td>1</td>\n",
              "      <td>0</td>\n",
              "      <td>156.0</td>\n",
              "      <td>79.0</td>\n",
              "      <td>1900</td>\n",
              "      <td>Yarra City Council</td>\n",
              "      <td>northern</td>\n",
              "      <td>metropolitan</td>\n",
              "      <td>4019</td>\n",
              "    </tr>\n",
              "    <tr>\n",
              "      <th>3</th>\n",
              "      <td>Abbotsford</td>\n",
              "      <td>18</td>\n",
              "      <td>659</td>\n",
              "      <td>Victoria St</td>\n",
              "      <td>3</td>\n",
              "      <td>0</td>\n",
              "      <td>1</td>\n",
              "      <td>0</td>\n",
              "      <td>1360378</td>\n",
              "      <td>Vendor Bid</td>\n",
              "      <td>Rounds</td>\n",
              "      <td>2016-02-04</td>\n",
              "      <td>2.5</td>\n",
              "      <td>3067</td>\n",
              "      <td>3</td>\n",
              "      <td>2</td>\n",
              "      <td>1</td>\n",
              "      <td>174.0</td>\n",
              "      <td>123.0</td>\n",
              "      <td>1922</td>\n",
              "      <td>Yarra City Council</td>\n",
              "      <td>northern</td>\n",
              "      <td>metropolitan</td>\n",
              "      <td>4019</td>\n",
              "    </tr>\n",
              "    <tr>\n",
              "      <th>4</th>\n",
              "      <td>Abbotsford</td>\n",
              "      <td>5</td>\n",
              "      <td>no_street_number</td>\n",
              "      <td>Charles St</td>\n",
              "      <td>3</td>\n",
              "      <td>1</td>\n",
              "      <td>0</td>\n",
              "      <td>0</td>\n",
              "      <td>1465000</td>\n",
              "      <td>Disclosed Sale</td>\n",
              "      <td>Biggin</td>\n",
              "      <td>2017-03-04</td>\n",
              "      <td>2.5</td>\n",
              "      <td>3067</td>\n",
              "      <td>3</td>\n",
              "      <td>2</td>\n",
              "      <td>0</td>\n",
              "      <td>134.0</td>\n",
              "      <td>150.0</td>\n",
              "      <td>1900</td>\n",
              "      <td>Yarra City Council</td>\n",
              "      <td>northern</td>\n",
              "      <td>metropolitan</td>\n",
              "      <td>4019</td>\n",
              "    </tr>\n",
              "    <tr>\n",
              "      <th>5</th>\n",
              "      <td>Abbotsford</td>\n",
              "      <td>40</td>\n",
              "      <td>no_street_number</td>\n",
              "      <td>Federation La</td>\n",
              "      <td>3</td>\n",
              "      <td>1</td>\n",
              "      <td>0</td>\n",
              "      <td>0</td>\n",
              "      <td>850000</td>\n",
              "      <td>Passed In</td>\n",
              "      <td>Biggin</td>\n",
              "      <td>2017-03-04</td>\n",
              "      <td>2.5</td>\n",
              "      <td>3067</td>\n",
              "      <td>3</td>\n",
              "      <td>2</td>\n",
              "      <td>1</td>\n",
              "      <td>94.0</td>\n",
              "      <td>148.0</td>\n",
              "      <td>1922</td>\n",
              "      <td>Yarra City Council</td>\n",
              "      <td>northern</td>\n",
              "      <td>metropolitan</td>\n",
              "      <td>4019</td>\n",
              "    </tr>\n",
              "    <tr>\n",
              "      <th>6</th>\n",
              "      <td>Abbotsford</td>\n",
              "      <td>55</td>\n",
              "      <td>no_street_number</td>\n",
              "      <td>Park St</td>\n",
              "      <td>4</td>\n",
              "      <td>1</td>\n",
              "      <td>0</td>\n",
              "      <td>0</td>\n",
              "      <td>1600000</td>\n",
              "      <td>Vendor Bid</td>\n",
              "      <td>Nelson</td>\n",
              "      <td>2016-06-04</td>\n",
              "      <td>2.5</td>\n",
              "      <td>3067</td>\n",
              "      <td>3</td>\n",
              "      <td>1</td>\n",
              "      <td>2</td>\n",
              "      <td>120.0</td>\n",
              "      <td>142.0</td>\n",
              "      <td>2014</td>\n",
              "      <td>Yarra City Council</td>\n",
              "      <td>northern</td>\n",
              "      <td>metropolitan</td>\n",
              "      <td>4019</td>\n",
              "    </tr>\n",
              "    <tr>\n",
              "      <th>7</th>\n",
              "      <td>Abbotsford</td>\n",
              "      <td>16</td>\n",
              "      <td>no_street_number</td>\n",
              "      <td>Maugie St</td>\n",
              "      <td>4</td>\n",
              "      <td>1</td>\n",
              "      <td>0</td>\n",
              "      <td>0</td>\n",
              "      <td>1747002</td>\n",
              "      <td>Sold (Hidden)</td>\n",
              "      <td>Nelson</td>\n",
              "      <td>2016-08-06</td>\n",
              "      <td>2.5</td>\n",
              "      <td>3067</td>\n",
              "      <td>3</td>\n",
              "      <td>2</td>\n",
              "      <td>2</td>\n",
              "      <td>400.0</td>\n",
              "      <td>220.0</td>\n",
              "      <td>2006</td>\n",
              "      <td>Yarra City Council</td>\n",
              "      <td>northern</td>\n",
              "      <td>metropolitan</td>\n",
              "      <td>4019</td>\n",
              "    </tr>\n",
              "    <tr>\n",
              "      <th>8</th>\n",
              "      <td>Abbotsford</td>\n",
              "      <td>53</td>\n",
              "      <td>no_street_number</td>\n",
              "      <td>Turner St</td>\n",
              "      <td>2</td>\n",
              "      <td>1</td>\n",
              "      <td>0</td>\n",
              "      <td>0</td>\n",
              "      <td>978974</td>\n",
              "      <td>Private Sale</td>\n",
              "      <td>Biggin</td>\n",
              "      <td>2016-08-06</td>\n",
              "      <td>2.5</td>\n",
              "      <td>3067</td>\n",
              "      <td>4</td>\n",
              "      <td>1</td>\n",
              "      <td>2</td>\n",
              "      <td>201.0</td>\n",
              "      <td>95.0</td>\n",
              "      <td>1900</td>\n",
              "      <td>Yarra City Council</td>\n",
              "      <td>northern</td>\n",
              "      <td>metropolitan</td>\n",
              "      <td>4019</td>\n",
              "    </tr>\n",
              "    <tr>\n",
              "      <th>9</th>\n",
              "      <td>Abbotsford</td>\n",
              "      <td>99</td>\n",
              "      <td>no_street_number</td>\n",
              "      <td>Turner St</td>\n",
              "      <td>2</td>\n",
              "      <td>1</td>\n",
              "      <td>0</td>\n",
              "      <td>0</td>\n",
              "      <td>978983</td>\n",
              "      <td>Private Sale</td>\n",
              "      <td>Collins</td>\n",
              "      <td>2016-08-06</td>\n",
              "      <td>2.5</td>\n",
              "      <td>3067</td>\n",
              "      <td>3</td>\n",
              "      <td>2</td>\n",
              "      <td>1</td>\n",
              "      <td>202.0</td>\n",
              "      <td>121.0</td>\n",
              "      <td>1900</td>\n",
              "      <td>Yarra City Council</td>\n",
              "      <td>northern</td>\n",
              "      <td>metropolitan</td>\n",
              "      <td>4019</td>\n",
              "    </tr>\n",
              "    <tr>\n",
              "      <th>10</th>\n",
              "      <td>Abbotsford</td>\n",
              "      <td>129</td>\n",
              "      <td>no_street_number</td>\n",
              "      <td>Charles St</td>\n",
              "      <td>2</td>\n",
              "      <td>1</td>\n",
              "      <td>0</td>\n",
              "      <td>0</td>\n",
              "      <td>941000</td>\n",
              "      <td>Private Sale</td>\n",
              "      <td>Jellis</td>\n",
              "      <td>2016-05-07</td>\n",
              "      <td>2.5</td>\n",
              "      <td>3067</td>\n",
              "      <td>2</td>\n",
              "      <td>1</td>\n",
              "      <td>0</td>\n",
              "      <td>181.0</td>\n",
              "      <td>95.0</td>\n",
              "      <td>1922</td>\n",
              "      <td>Yarra City Council</td>\n",
              "      <td>northern</td>\n",
              "      <td>metropolitan</td>\n",
              "      <td>4019</td>\n",
              "    </tr>\n",
              "    <tr>\n",
              "      <th>11</th>\n",
              "      <td>Abbotsford</td>\n",
              "      <td>124</td>\n",
              "      <td>no_street_number</td>\n",
              "      <td>Yarra St</td>\n",
              "      <td>3</td>\n",
              "      <td>1</td>\n",
              "      <td>0</td>\n",
              "      <td>0</td>\n",
              "      <td>1876000</td>\n",
              "      <td>Private Sale</td>\n",
              "      <td>Nelson</td>\n",
              "      <td>2016-05-07</td>\n",
              "      <td>2.5</td>\n",
              "      <td>3067</td>\n",
              "      <td>4</td>\n",
              "      <td>2</td>\n",
              "      <td>0</td>\n",
              "      <td>245.0</td>\n",
              "      <td>210.0</td>\n",
              "      <td>1910</td>\n",
              "      <td>Yarra City Council</td>\n",
              "      <td>northern</td>\n",
              "      <td>metropolitan</td>\n",
              "      <td>4019</td>\n",
              "    </tr>\n",
              "  </tbody>\n",
              "</table>\n",
              "</div>\n",
              "    <div class=\"colab-df-buttons\">\n",
              "\n",
              "  <div class=\"colab-df-container\">\n",
              "    <button class=\"colab-df-convert\" onclick=\"convertToInteractive('df-7763bc47-b7e3-4a5c-9b4b-aa67454e3acd')\"\n",
              "            title=\"Convert this dataframe to an interactive table.\"\n",
              "            style=\"display:none;\">\n",
              "\n",
              "  <svg xmlns=\"http://www.w3.org/2000/svg\" height=\"24px\" viewBox=\"0 -960 960 960\">\n",
              "    <path d=\"M120-120v-720h720v720H120Zm60-500h600v-160H180v160Zm220 220h160v-160H400v160Zm0 220h160v-160H400v160ZM180-400h160v-160H180v160Zm440 0h160v-160H620v160ZM180-180h160v-160H180v160Zm440 0h160v-160H620v160Z\"/>\n",
              "  </svg>\n",
              "    </button>\n",
              "\n",
              "  <style>\n",
              "    .colab-df-container {\n",
              "      display:flex;\n",
              "      gap: 12px;\n",
              "    }\n",
              "\n",
              "    .colab-df-convert {\n",
              "      background-color: #E8F0FE;\n",
              "      border: none;\n",
              "      border-radius: 50%;\n",
              "      cursor: pointer;\n",
              "      display: none;\n",
              "      fill: #1967D2;\n",
              "      height: 32px;\n",
              "      padding: 0 0 0 0;\n",
              "      width: 32px;\n",
              "    }\n",
              "\n",
              "    .colab-df-convert:hover {\n",
              "      background-color: #E2EBFA;\n",
              "      box-shadow: 0px 1px 2px rgba(60, 64, 67, 0.3), 0px 1px 3px 1px rgba(60, 64, 67, 0.15);\n",
              "      fill: #174EA6;\n",
              "    }\n",
              "\n",
              "    .colab-df-buttons div {\n",
              "      margin-bottom: 4px;\n",
              "    }\n",
              "\n",
              "    [theme=dark] .colab-df-convert {\n",
              "      background-color: #3B4455;\n",
              "      fill: #D2E3FC;\n",
              "    }\n",
              "\n",
              "    [theme=dark] .colab-df-convert:hover {\n",
              "      background-color: #434B5C;\n",
              "      box-shadow: 0px 1px 3px 1px rgba(0, 0, 0, 0.15);\n",
              "      filter: drop-shadow(0px 1px 2px rgba(0, 0, 0, 0.3));\n",
              "      fill: #FFFFFF;\n",
              "    }\n",
              "  </style>\n",
              "\n",
              "    <script>\n",
              "      const buttonEl =\n",
              "        document.querySelector('#df-7763bc47-b7e3-4a5c-9b4b-aa67454e3acd button.colab-df-convert');\n",
              "      buttonEl.style.display =\n",
              "        google.colab.kernel.accessAllowed ? 'block' : 'none';\n",
              "\n",
              "      async function convertToInteractive(key) {\n",
              "        const element = document.querySelector('#df-7763bc47-b7e3-4a5c-9b4b-aa67454e3acd');\n",
              "        const dataTable =\n",
              "          await google.colab.kernel.invokeFunction('convertToInteractive',\n",
              "                                                    [key], {});\n",
              "        if (!dataTable) return;\n",
              "\n",
              "        const docLinkHtml = 'Like what you see? Visit the ' +\n",
              "          '<a target=\"_blank\" href=https://colab.research.google.com/notebooks/data_table.ipynb>data table notebook</a>'\n",
              "          + ' to learn more about interactive tables.';\n",
              "        element.innerHTML = '';\n",
              "        dataTable['output_type'] = 'display_data';\n",
              "        await google.colab.output.renderOutput(dataTable, element);\n",
              "        const docLink = document.createElement('div');\n",
              "        docLink.innerHTML = docLinkHtml;\n",
              "        element.appendChild(docLink);\n",
              "      }\n",
              "    </script>\n",
              "  </div>\n",
              "\n",
              "\n",
              "    <div id=\"df-29036d9c-6eff-4642-8ffc-2287f76b49ea\">\n",
              "      <button class=\"colab-df-quickchart\" onclick=\"quickchart('df-29036d9c-6eff-4642-8ffc-2287f76b49ea')\"\n",
              "                title=\"Suggest charts\"\n",
              "                style=\"display:none;\">\n",
              "\n",
              "<svg xmlns=\"http://www.w3.org/2000/svg\" height=\"24px\"viewBox=\"0 0 24 24\"\n",
              "     width=\"24px\">\n",
              "    <g>\n",
              "        <path d=\"M19 3H5c-1.1 0-2 .9-2 2v14c0 1.1.9 2 2 2h14c1.1 0 2-.9 2-2V5c0-1.1-.9-2-2-2zM9 17H7v-7h2v7zm4 0h-2V7h2v10zm4 0h-2v-4h2v4z\"/>\n",
              "    </g>\n",
              "</svg>\n",
              "      </button>\n",
              "\n",
              "<style>\n",
              "  .colab-df-quickchart {\n",
              "      --bg-color: #E8F0FE;\n",
              "      --fill-color: #1967D2;\n",
              "      --hover-bg-color: #E2EBFA;\n",
              "      --hover-fill-color: #174EA6;\n",
              "      --disabled-fill-color: #AAA;\n",
              "      --disabled-bg-color: #DDD;\n",
              "  }\n",
              "\n",
              "  [theme=dark] .colab-df-quickchart {\n",
              "      --bg-color: #3B4455;\n",
              "      --fill-color: #D2E3FC;\n",
              "      --hover-bg-color: #434B5C;\n",
              "      --hover-fill-color: #FFFFFF;\n",
              "      --disabled-bg-color: #3B4455;\n",
              "      --disabled-fill-color: #666;\n",
              "  }\n",
              "\n",
              "  .colab-df-quickchart {\n",
              "    background-color: var(--bg-color);\n",
              "    border: none;\n",
              "    border-radius: 50%;\n",
              "    cursor: pointer;\n",
              "    display: none;\n",
              "    fill: var(--fill-color);\n",
              "    height: 32px;\n",
              "    padding: 0;\n",
              "    width: 32px;\n",
              "  }\n",
              "\n",
              "  .colab-df-quickchart:hover {\n",
              "    background-color: var(--hover-bg-color);\n",
              "    box-shadow: 0 1px 2px rgba(60, 64, 67, 0.3), 0 1px 3px 1px rgba(60, 64, 67, 0.15);\n",
              "    fill: var(--button-hover-fill-color);\n",
              "  }\n",
              "\n",
              "  .colab-df-quickchart-complete:disabled,\n",
              "  .colab-df-quickchart-complete:disabled:hover {\n",
              "    background-color: var(--disabled-bg-color);\n",
              "    fill: var(--disabled-fill-color);\n",
              "    box-shadow: none;\n",
              "  }\n",
              "\n",
              "  .colab-df-spinner {\n",
              "    border: 2px solid var(--fill-color);\n",
              "    border-color: transparent;\n",
              "    border-bottom-color: var(--fill-color);\n",
              "    animation:\n",
              "      spin 1s steps(1) infinite;\n",
              "  }\n",
              "\n",
              "  @keyframes spin {\n",
              "    0% {\n",
              "      border-color: transparent;\n",
              "      border-bottom-color: var(--fill-color);\n",
              "      border-left-color: var(--fill-color);\n",
              "    }\n",
              "    20% {\n",
              "      border-color: transparent;\n",
              "      border-left-color: var(--fill-color);\n",
              "      border-top-color: var(--fill-color);\n",
              "    }\n",
              "    30% {\n",
              "      border-color: transparent;\n",
              "      border-left-color: var(--fill-color);\n",
              "      border-top-color: var(--fill-color);\n",
              "      border-right-color: var(--fill-color);\n",
              "    }\n",
              "    40% {\n",
              "      border-color: transparent;\n",
              "      border-right-color: var(--fill-color);\n",
              "      border-top-color: var(--fill-color);\n",
              "    }\n",
              "    60% {\n",
              "      border-color: transparent;\n",
              "      border-right-color: var(--fill-color);\n",
              "    }\n",
              "    80% {\n",
              "      border-color: transparent;\n",
              "      border-right-color: var(--fill-color);\n",
              "      border-bottom-color: var(--fill-color);\n",
              "    }\n",
              "    90% {\n",
              "      border-color: transparent;\n",
              "      border-bottom-color: var(--fill-color);\n",
              "    }\n",
              "  }\n",
              "</style>\n",
              "\n",
              "      <script>\n",
              "        async function quickchart(key) {\n",
              "          const quickchartButtonEl =\n",
              "            document.querySelector('#' + key + ' button');\n",
              "          quickchartButtonEl.disabled = true;  // To prevent multiple clicks.\n",
              "          quickchartButtonEl.classList.add('colab-df-spinner');\n",
              "          try {\n",
              "            const charts = await google.colab.kernel.invokeFunction(\n",
              "                'suggestCharts', [key], {});\n",
              "          } catch (error) {\n",
              "            console.error('Error during call to suggestCharts:', error);\n",
              "          }\n",
              "          quickchartButtonEl.classList.remove('colab-df-spinner');\n",
              "          quickchartButtonEl.classList.add('colab-df-quickchart-complete');\n",
              "        }\n",
              "        (() => {\n",
              "          let quickchartButtonEl =\n",
              "            document.querySelector('#df-29036d9c-6eff-4642-8ffc-2287f76b49ea button');\n",
              "          quickchartButtonEl.style.display =\n",
              "            google.colab.kernel.accessAllowed ? 'block' : 'none';\n",
              "        })();\n",
              "      </script>\n",
              "    </div>\n",
              "\n",
              "    </div>\n",
              "  </div>\n"
            ],
            "application/vnd.google.colaboratory.intrinsic+json": {
              "type": "dataframe",
              "variable_name": "df"
            }
          },
          "metadata": {},
          "execution_count": 77
        }
      ],
      "source": [
        "df.head(12)"
      ]
    },
    {
      "cell_type": "code",
      "execution_count": null,
      "metadata": {
        "colab": {
          "base_uri": "https://localhost:8080/"
        },
        "id": "XT_reAQj8zIw",
        "outputId": "41666232-f81e-4d68-cbb3-1a332828c71d"
      },
      "outputs": [
        {
          "name": "stdout",
          "output_type": "stream",
          "text": [
            "<class 'pandas.core.frame.DataFrame'>\n",
            "Index: 34850 entries, 0 to 34856\n",
            "Data columns (total 24 columns):\n",
            " #   Column            Non-Null Count  Dtype         \n",
            "---  ------            --------------  -----         \n",
            " 0   Suburb            34850 non-null  category      \n",
            " 1   unit_no           34850 non-null  int32         \n",
            " 2   street_no         34850 non-null  category      \n",
            " 3   street_name       34850 non-null  category      \n",
            " 4   Rooms             34850 non-null  int32         \n",
            " 5   house             34850 non-null  int32         \n",
            " 6   apartment         34850 non-null  int32         \n",
            " 7   townhouse         34850 non-null  int32         \n",
            " 8   Price             34850 non-null  int64         \n",
            " 9   Method            34850 non-null  category      \n",
            " 10  SellerG           34850 non-null  category      \n",
            " 11  Date              34850 non-null  datetime64[ns]\n",
            " 12  Distance          34850 non-null  float64       \n",
            " 13  Postcode          34850 non-null  int64         \n",
            " 14  Bedroom2          34850 non-null  int32         \n",
            " 15  Bathroom          34850 non-null  int32         \n",
            " 16  Car               34850 non-null  int32         \n",
            " 17  Landsize          34850 non-null  float64       \n",
            " 18  BuildingArea      34850 non-null  float64       \n",
            " 19  YearBuilt         34850 non-null  int64         \n",
            " 20  CouncilArea       34850 non-null  category      \n",
            " 21  region_direction  34850 non-null  category      \n",
            " 22  region_type       34850 non-null  category      \n",
            " 23  Propertycount     34850 non-null  int32         \n",
            "dtypes: category(8), datetime64[ns](1), float64(3), int32(9), int64(3)\n",
            "memory usage: 5.1 MB\n"
          ]
        }
      ],
      "source": [
        "df.info()"
      ]
    },
    {
      "cell_type": "code",
      "execution_count": 75,
      "metadata": {
        "id": "EmvYm8x-FI_X"
      },
      "outputs": [],
      "source": []
    },
    {
      "cell_type": "code",
      "execution_count": null,
      "metadata": {
        "colab": {
          "background_save": true
        },
        "id": "Hbdi4IZ_WzCq"
      },
      "outputs": [],
      "source": []
    }
  ],
  "metadata": {
    "colab": {
      "provenance": [],
      "authorship_tag": "ABX9TyMWaZF+qCV1kSN8qphPeW0A",
      "include_colab_link": true
    },
    "kernelspec": {
      "display_name": "Python 3",
      "name": "python3"
    },
    "language_info": {
      "name": "python"
    }
  },
  "nbformat": 4,
  "nbformat_minor": 0
}