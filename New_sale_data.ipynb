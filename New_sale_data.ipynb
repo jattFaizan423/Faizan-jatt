{
  "nbformat": 4,
  "nbformat_minor": 0,
  "metadata": {
    "colab": {
      "provenance": [],
      "authorship_tag": "ABX9TyNUaBNvfDcb7qrA7ElnUVro",
      "include_colab_link": true
    },
    "kernelspec": {
      "name": "python3",
      "display_name": "Python 3"
    },
    "language_info": {
      "name": "python"
    }
  },
  "cells": [
    {
      "cell_type": "markdown",
      "metadata": {
        "id": "view-in-github",
        "colab_type": "text"
      },
      "source": [
        "<a href=\"https://colab.research.google.com/github/jattFaizan423/Faizan-jatt/blob/main/New_sale_data.ipynb\" target=\"_parent\"><img src=\"https://colab.research.google.com/assets/colab-badge.svg\" alt=\"Open In Colab\"/></a>"
      ]
    },
    {
      "cell_type": "code",
      "execution_count": 1,
      "metadata": {
        "id": "MNLOJQ9qiyKi"
      },
      "outputs": [],
      "source": [
        "import numpy as np\n",
        "import pandas as pd"
      ]
    },
    {
      "cell_type": "code",
      "source": [
        "sale = pd.read_csv('/content/sales.csv')"
      ],
      "metadata": {
        "id": "0DpwyyWmi7Pt"
      },
      "execution_count": 2,
      "outputs": []
    },
    {
      "cell_type": "code",
      "source": [
        "pd.set_option('display.max_columns',None)"
      ],
      "metadata": {
        "id": "J4LEeQqxE3cr"
      },
      "execution_count": 57,
      "outputs": []
    },
    {
      "cell_type": "code",
      "source": [
        "sale.head()"
      ],
      "metadata": {
        "colab": {
          "base_uri": "https://localhost:8080/",
          "height": 417
        },
        "id": "iBdCtyA2Ejfw",
        "outputId": "4ceaee8c-55e9-40ac-e03e-0deaca4e4045"
      },
      "execution_count": 58,
      "outputs": [
        {
          "output_type": "execute_result",
          "data": {
            "text/plain": [
              "    order_id  order_date    status  item_id                  sku  qty_ordered  \\\n",
              "0  100354678  01/10/2020  received   574772   oasis_Oasis-064-36         21.0   \n",
              "1  100354678  01/10/2020  received   574774      Fantastic_FT-48         11.0   \n",
              "2  100354680  01/10/2020  complete   574777      mdeal_DMC-610-8          9.0   \n",
              "3  100354680  01/10/2020  complete   574779   oasis_Oasis-061-36          9.0   \n",
              "4  100367357  13/11/2020  received   595185  MEFNAR59C38B6CA08CD          2.0   \n",
              "\n",
              "   price   value  discount_amount   total       category payment_method  \\\n",
              "0   89.9  1798.0              0.0  1798.0  Men's Fashion            cod   \n",
              "1   19.0   190.0              0.0   190.0  Men's Fashion            cod   \n",
              "2  149.9  1199.2              0.0  1199.2  Men's Fashion            cod   \n",
              "3   79.9   639.2              0.0   639.2  Men's Fashion            cod   \n",
              "4   99.9    99.9              0.0    99.9  Men's Fashion            cod   \n",
              "\n",
              "   bi_st  cust_id    year   month   ref_num Name Prefix First Name  \\\n",
              "0  Valid  60124.0  2020.0  Oct-20  987867.0        Drs.       Jani   \n",
              "1  Valid  60124.0  2020.0  Oct-20  987867.0        Drs.       Jani   \n",
              "2    Net  60124.0  2020.0  Oct-20  987867.0        Drs.       Jani   \n",
              "3    Net  60124.0  2020.0  Oct-20  987867.0        Drs.       Jani   \n",
              "4  Valid  60124.0  2020.0  Nov-20  987867.0        Drs.       Jani   \n",
              "\n",
              "  Middle Initial Last Name Gender   age    full_name                E Mail  \\\n",
              "0              W     Titus      F  43.0  Titus, Jani  jani.titus@gmail.com   \n",
              "1              W     Titus      F  43.0  Titus, Jani  jani.titus@gmail.com   \n",
              "2              W     Titus      F  43.0  Titus, Jani  jani.titus@gmail.com   \n",
              "3              W     Titus      F  43.0  Titus, Jani  jani.titus@gmail.com   \n",
              "4              W     Titus      F  43.0  Titus, Jani  jani.titus@gmail.com   \n",
              "\n",
              "  Customer Since          SSN    Phone No.  Place Name  County    City State  \\\n",
              "0      8/22/2006  627-31-5251  405-959-1129     Vinson  Harmon  Vinson    OK   \n",
              "1      8/22/2006  627-31-5251  405-959-1129     Vinson  Harmon  Vinson    OK   \n",
              "2      8/22/2006  627-31-5251  405-959-1129     Vinson  Harmon  Vinson    OK   \n",
              "3      8/22/2006  627-31-5251  405-959-1129     Vinson  Harmon  Vinson    OK   \n",
              "4      8/22/2006  627-31-5251  405-959-1129     Vinson  Harmon  Vinson    OK   \n",
              "\n",
              "       Zip Region User Name  Discount_Percent  \n",
              "0  73571.0  South   jwtitus               0.0  \n",
              "1  73571.0  South   jwtitus               0.0  \n",
              "2  73571.0  South   jwtitus               0.0  \n",
              "3  73571.0  South   jwtitus               0.0  \n",
              "4  73571.0  South   jwtitus               0.0  "
            ],
            "text/html": [
              "\n",
              "  <div id=\"df-0672b32c-6dfe-4a57-a87d-222757bc13ba\" class=\"colab-df-container\">\n",
              "    <div>\n",
              "<style scoped>\n",
              "    .dataframe tbody tr th:only-of-type {\n",
              "        vertical-align: middle;\n",
              "    }\n",
              "\n",
              "    .dataframe tbody tr th {\n",
              "        vertical-align: top;\n",
              "    }\n",
              "\n",
              "    .dataframe thead th {\n",
              "        text-align: right;\n",
              "    }\n",
              "</style>\n",
              "<table border=\"1\" class=\"dataframe\">\n",
              "  <thead>\n",
              "    <tr style=\"text-align: right;\">\n",
              "      <th></th>\n",
              "      <th>order_id</th>\n",
              "      <th>order_date</th>\n",
              "      <th>status</th>\n",
              "      <th>item_id</th>\n",
              "      <th>sku</th>\n",
              "      <th>qty_ordered</th>\n",
              "      <th>price</th>\n",
              "      <th>value</th>\n",
              "      <th>discount_amount</th>\n",
              "      <th>total</th>\n",
              "      <th>category</th>\n",
              "      <th>payment_method</th>\n",
              "      <th>bi_st</th>\n",
              "      <th>cust_id</th>\n",
              "      <th>year</th>\n",
              "      <th>month</th>\n",
              "      <th>ref_num</th>\n",
              "      <th>Name Prefix</th>\n",
              "      <th>First Name</th>\n",
              "      <th>Middle Initial</th>\n",
              "      <th>Last Name</th>\n",
              "      <th>Gender</th>\n",
              "      <th>age</th>\n",
              "      <th>full_name</th>\n",
              "      <th>E Mail</th>\n",
              "      <th>Customer Since</th>\n",
              "      <th>SSN</th>\n",
              "      <th>Phone No.</th>\n",
              "      <th>Place Name</th>\n",
              "      <th>County</th>\n",
              "      <th>City</th>\n",
              "      <th>State</th>\n",
              "      <th>Zip</th>\n",
              "      <th>Region</th>\n",
              "      <th>User Name</th>\n",
              "      <th>Discount_Percent</th>\n",
              "    </tr>\n",
              "  </thead>\n",
              "  <tbody>\n",
              "    <tr>\n",
              "      <th>0</th>\n",
              "      <td>100354678</td>\n",
              "      <td>01/10/2020</td>\n",
              "      <td>received</td>\n",
              "      <td>574772</td>\n",
              "      <td>oasis_Oasis-064-36</td>\n",
              "      <td>21.0</td>\n",
              "      <td>89.9</td>\n",
              "      <td>1798.0</td>\n",
              "      <td>0.0</td>\n",
              "      <td>1798.0</td>\n",
              "      <td>Men's Fashion</td>\n",
              "      <td>cod</td>\n",
              "      <td>Valid</td>\n",
              "      <td>60124.0</td>\n",
              "      <td>2020.0</td>\n",
              "      <td>Oct-20</td>\n",
              "      <td>987867.0</td>\n",
              "      <td>Drs.</td>\n",
              "      <td>Jani</td>\n",
              "      <td>W</td>\n",
              "      <td>Titus</td>\n",
              "      <td>F</td>\n",
              "      <td>43.0</td>\n",
              "      <td>Titus, Jani</td>\n",
              "      <td>jani.titus@gmail.com</td>\n",
              "      <td>8/22/2006</td>\n",
              "      <td>627-31-5251</td>\n",
              "      <td>405-959-1129</td>\n",
              "      <td>Vinson</td>\n",
              "      <td>Harmon</td>\n",
              "      <td>Vinson</td>\n",
              "      <td>OK</td>\n",
              "      <td>73571.0</td>\n",
              "      <td>South</td>\n",
              "      <td>jwtitus</td>\n",
              "      <td>0.0</td>\n",
              "    </tr>\n",
              "    <tr>\n",
              "      <th>1</th>\n",
              "      <td>100354678</td>\n",
              "      <td>01/10/2020</td>\n",
              "      <td>received</td>\n",
              "      <td>574774</td>\n",
              "      <td>Fantastic_FT-48</td>\n",
              "      <td>11.0</td>\n",
              "      <td>19.0</td>\n",
              "      <td>190.0</td>\n",
              "      <td>0.0</td>\n",
              "      <td>190.0</td>\n",
              "      <td>Men's Fashion</td>\n",
              "      <td>cod</td>\n",
              "      <td>Valid</td>\n",
              "      <td>60124.0</td>\n",
              "      <td>2020.0</td>\n",
              "      <td>Oct-20</td>\n",
              "      <td>987867.0</td>\n",
              "      <td>Drs.</td>\n",
              "      <td>Jani</td>\n",
              "      <td>W</td>\n",
              "      <td>Titus</td>\n",
              "      <td>F</td>\n",
              "      <td>43.0</td>\n",
              "      <td>Titus, Jani</td>\n",
              "      <td>jani.titus@gmail.com</td>\n",
              "      <td>8/22/2006</td>\n",
              "      <td>627-31-5251</td>\n",
              "      <td>405-959-1129</td>\n",
              "      <td>Vinson</td>\n",
              "      <td>Harmon</td>\n",
              "      <td>Vinson</td>\n",
              "      <td>OK</td>\n",
              "      <td>73571.0</td>\n",
              "      <td>South</td>\n",
              "      <td>jwtitus</td>\n",
              "      <td>0.0</td>\n",
              "    </tr>\n",
              "    <tr>\n",
              "      <th>2</th>\n",
              "      <td>100354680</td>\n",
              "      <td>01/10/2020</td>\n",
              "      <td>complete</td>\n",
              "      <td>574777</td>\n",
              "      <td>mdeal_DMC-610-8</td>\n",
              "      <td>9.0</td>\n",
              "      <td>149.9</td>\n",
              "      <td>1199.2</td>\n",
              "      <td>0.0</td>\n",
              "      <td>1199.2</td>\n",
              "      <td>Men's Fashion</td>\n",
              "      <td>cod</td>\n",
              "      <td>Net</td>\n",
              "      <td>60124.0</td>\n",
              "      <td>2020.0</td>\n",
              "      <td>Oct-20</td>\n",
              "      <td>987867.0</td>\n",
              "      <td>Drs.</td>\n",
              "      <td>Jani</td>\n",
              "      <td>W</td>\n",
              "      <td>Titus</td>\n",
              "      <td>F</td>\n",
              "      <td>43.0</td>\n",
              "      <td>Titus, Jani</td>\n",
              "      <td>jani.titus@gmail.com</td>\n",
              "      <td>8/22/2006</td>\n",
              "      <td>627-31-5251</td>\n",
              "      <td>405-959-1129</td>\n",
              "      <td>Vinson</td>\n",
              "      <td>Harmon</td>\n",
              "      <td>Vinson</td>\n",
              "      <td>OK</td>\n",
              "      <td>73571.0</td>\n",
              "      <td>South</td>\n",
              "      <td>jwtitus</td>\n",
              "      <td>0.0</td>\n",
              "    </tr>\n",
              "    <tr>\n",
              "      <th>3</th>\n",
              "      <td>100354680</td>\n",
              "      <td>01/10/2020</td>\n",
              "      <td>complete</td>\n",
              "      <td>574779</td>\n",
              "      <td>oasis_Oasis-061-36</td>\n",
              "      <td>9.0</td>\n",
              "      <td>79.9</td>\n",
              "      <td>639.2</td>\n",
              "      <td>0.0</td>\n",
              "      <td>639.2</td>\n",
              "      <td>Men's Fashion</td>\n",
              "      <td>cod</td>\n",
              "      <td>Net</td>\n",
              "      <td>60124.0</td>\n",
              "      <td>2020.0</td>\n",
              "      <td>Oct-20</td>\n",
              "      <td>987867.0</td>\n",
              "      <td>Drs.</td>\n",
              "      <td>Jani</td>\n",
              "      <td>W</td>\n",
              "      <td>Titus</td>\n",
              "      <td>F</td>\n",
              "      <td>43.0</td>\n",
              "      <td>Titus, Jani</td>\n",
              "      <td>jani.titus@gmail.com</td>\n",
              "      <td>8/22/2006</td>\n",
              "      <td>627-31-5251</td>\n",
              "      <td>405-959-1129</td>\n",
              "      <td>Vinson</td>\n",
              "      <td>Harmon</td>\n",
              "      <td>Vinson</td>\n",
              "      <td>OK</td>\n",
              "      <td>73571.0</td>\n",
              "      <td>South</td>\n",
              "      <td>jwtitus</td>\n",
              "      <td>0.0</td>\n",
              "    </tr>\n",
              "    <tr>\n",
              "      <th>4</th>\n",
              "      <td>100367357</td>\n",
              "      <td>13/11/2020</td>\n",
              "      <td>received</td>\n",
              "      <td>595185</td>\n",
              "      <td>MEFNAR59C38B6CA08CD</td>\n",
              "      <td>2.0</td>\n",
              "      <td>99.9</td>\n",
              "      <td>99.9</td>\n",
              "      <td>0.0</td>\n",
              "      <td>99.9</td>\n",
              "      <td>Men's Fashion</td>\n",
              "      <td>cod</td>\n",
              "      <td>Valid</td>\n",
              "      <td>60124.0</td>\n",
              "      <td>2020.0</td>\n",
              "      <td>Nov-20</td>\n",
              "      <td>987867.0</td>\n",
              "      <td>Drs.</td>\n",
              "      <td>Jani</td>\n",
              "      <td>W</td>\n",
              "      <td>Titus</td>\n",
              "      <td>F</td>\n",
              "      <td>43.0</td>\n",
              "      <td>Titus, Jani</td>\n",
              "      <td>jani.titus@gmail.com</td>\n",
              "      <td>8/22/2006</td>\n",
              "      <td>627-31-5251</td>\n",
              "      <td>405-959-1129</td>\n",
              "      <td>Vinson</td>\n",
              "      <td>Harmon</td>\n",
              "      <td>Vinson</td>\n",
              "      <td>OK</td>\n",
              "      <td>73571.0</td>\n",
              "      <td>South</td>\n",
              "      <td>jwtitus</td>\n",
              "      <td>0.0</td>\n",
              "    </tr>\n",
              "  </tbody>\n",
              "</table>\n",
              "</div>\n",
              "    <div class=\"colab-df-buttons\">\n",
              "\n",
              "  <div class=\"colab-df-container\">\n",
              "    <button class=\"colab-df-convert\" onclick=\"convertToInteractive('df-0672b32c-6dfe-4a57-a87d-222757bc13ba')\"\n",
              "            title=\"Convert this dataframe to an interactive table.\"\n",
              "            style=\"display:none;\">\n",
              "\n",
              "  <svg xmlns=\"http://www.w3.org/2000/svg\" height=\"24px\" viewBox=\"0 -960 960 960\">\n",
              "    <path d=\"M120-120v-720h720v720H120Zm60-500h600v-160H180v160Zm220 220h160v-160H400v160Zm0 220h160v-160H400v160ZM180-400h160v-160H180v160Zm440 0h160v-160H620v160ZM180-180h160v-160H180v160Zm440 0h160v-160H620v160Z\"/>\n",
              "  </svg>\n",
              "    </button>\n",
              "\n",
              "  <style>\n",
              "    .colab-df-container {\n",
              "      display:flex;\n",
              "      gap: 12px;\n",
              "    }\n",
              "\n",
              "    .colab-df-convert {\n",
              "      background-color: #E8F0FE;\n",
              "      border: none;\n",
              "      border-radius: 50%;\n",
              "      cursor: pointer;\n",
              "      display: none;\n",
              "      fill: #1967D2;\n",
              "      height: 32px;\n",
              "      padding: 0 0 0 0;\n",
              "      width: 32px;\n",
              "    }\n",
              "\n",
              "    .colab-df-convert:hover {\n",
              "      background-color: #E2EBFA;\n",
              "      box-shadow: 0px 1px 2px rgba(60, 64, 67, 0.3), 0px 1px 3px 1px rgba(60, 64, 67, 0.15);\n",
              "      fill: #174EA6;\n",
              "    }\n",
              "\n",
              "    .colab-df-buttons div {\n",
              "      margin-bottom: 4px;\n",
              "    }\n",
              "\n",
              "    [theme=dark] .colab-df-convert {\n",
              "      background-color: #3B4455;\n",
              "      fill: #D2E3FC;\n",
              "    }\n",
              "\n",
              "    [theme=dark] .colab-df-convert:hover {\n",
              "      background-color: #434B5C;\n",
              "      box-shadow: 0px 1px 3px 1px rgba(0, 0, 0, 0.15);\n",
              "      filter: drop-shadow(0px 1px 2px rgba(0, 0, 0, 0.3));\n",
              "      fill: #FFFFFF;\n",
              "    }\n",
              "  </style>\n",
              "\n",
              "    <script>\n",
              "      const buttonEl =\n",
              "        document.querySelector('#df-0672b32c-6dfe-4a57-a87d-222757bc13ba button.colab-df-convert');\n",
              "      buttonEl.style.display =\n",
              "        google.colab.kernel.accessAllowed ? 'block' : 'none';\n",
              "\n",
              "      async function convertToInteractive(key) {\n",
              "        const element = document.querySelector('#df-0672b32c-6dfe-4a57-a87d-222757bc13ba');\n",
              "        const dataTable =\n",
              "          await google.colab.kernel.invokeFunction('convertToInteractive',\n",
              "                                                    [key], {});\n",
              "        if (!dataTable) return;\n",
              "\n",
              "        const docLinkHtml = 'Like what you see? Visit the ' +\n",
              "          '<a target=\"_blank\" href=https://colab.research.google.com/notebooks/data_table.ipynb>data table notebook</a>'\n",
              "          + ' to learn more about interactive tables.';\n",
              "        element.innerHTML = '';\n",
              "        dataTable['output_type'] = 'display_data';\n",
              "        await google.colab.output.renderOutput(dataTable, element);\n",
              "        const docLink = document.createElement('div');\n",
              "        docLink.innerHTML = docLinkHtml;\n",
              "        element.appendChild(docLink);\n",
              "      }\n",
              "    </script>\n",
              "  </div>\n",
              "\n",
              "\n",
              "    <div id=\"df-374c3338-d738-4768-97de-906b2caf8bc4\">\n",
              "      <button class=\"colab-df-quickchart\" onclick=\"quickchart('df-374c3338-d738-4768-97de-906b2caf8bc4')\"\n",
              "                title=\"Suggest charts\"\n",
              "                style=\"display:none;\">\n",
              "\n",
              "<svg xmlns=\"http://www.w3.org/2000/svg\" height=\"24px\"viewBox=\"0 0 24 24\"\n",
              "     width=\"24px\">\n",
              "    <g>\n",
              "        <path d=\"M19 3H5c-1.1 0-2 .9-2 2v14c0 1.1.9 2 2 2h14c1.1 0 2-.9 2-2V5c0-1.1-.9-2-2-2zM9 17H7v-7h2v7zm4 0h-2V7h2v10zm4 0h-2v-4h2v4z\"/>\n",
              "    </g>\n",
              "</svg>\n",
              "      </button>\n",
              "\n",
              "<style>\n",
              "  .colab-df-quickchart {\n",
              "      --bg-color: #E8F0FE;\n",
              "      --fill-color: #1967D2;\n",
              "      --hover-bg-color: #E2EBFA;\n",
              "      --hover-fill-color: #174EA6;\n",
              "      --disabled-fill-color: #AAA;\n",
              "      --disabled-bg-color: #DDD;\n",
              "  }\n",
              "\n",
              "  [theme=dark] .colab-df-quickchart {\n",
              "      --bg-color: #3B4455;\n",
              "      --fill-color: #D2E3FC;\n",
              "      --hover-bg-color: #434B5C;\n",
              "      --hover-fill-color: #FFFFFF;\n",
              "      --disabled-bg-color: #3B4455;\n",
              "      --disabled-fill-color: #666;\n",
              "  }\n",
              "\n",
              "  .colab-df-quickchart {\n",
              "    background-color: var(--bg-color);\n",
              "    border: none;\n",
              "    border-radius: 50%;\n",
              "    cursor: pointer;\n",
              "    display: none;\n",
              "    fill: var(--fill-color);\n",
              "    height: 32px;\n",
              "    padding: 0;\n",
              "    width: 32px;\n",
              "  }\n",
              "\n",
              "  .colab-df-quickchart:hover {\n",
              "    background-color: var(--hover-bg-color);\n",
              "    box-shadow: 0 1px 2px rgba(60, 64, 67, 0.3), 0 1px 3px 1px rgba(60, 64, 67, 0.15);\n",
              "    fill: var(--button-hover-fill-color);\n",
              "  }\n",
              "\n",
              "  .colab-df-quickchart-complete:disabled,\n",
              "  .colab-df-quickchart-complete:disabled:hover {\n",
              "    background-color: var(--disabled-bg-color);\n",
              "    fill: var(--disabled-fill-color);\n",
              "    box-shadow: none;\n",
              "  }\n",
              "\n",
              "  .colab-df-spinner {\n",
              "    border: 2px solid var(--fill-color);\n",
              "    border-color: transparent;\n",
              "    border-bottom-color: var(--fill-color);\n",
              "    animation:\n",
              "      spin 1s steps(1) infinite;\n",
              "  }\n",
              "\n",
              "  @keyframes spin {\n",
              "    0% {\n",
              "      border-color: transparent;\n",
              "      border-bottom-color: var(--fill-color);\n",
              "      border-left-color: var(--fill-color);\n",
              "    }\n",
              "    20% {\n",
              "      border-color: transparent;\n",
              "      border-left-color: var(--fill-color);\n",
              "      border-top-color: var(--fill-color);\n",
              "    }\n",
              "    30% {\n",
              "      border-color: transparent;\n",
              "      border-left-color: var(--fill-color);\n",
              "      border-top-color: var(--fill-color);\n",
              "      border-right-color: var(--fill-color);\n",
              "    }\n",
              "    40% {\n",
              "      border-color: transparent;\n",
              "      border-right-color: var(--fill-color);\n",
              "      border-top-color: var(--fill-color);\n",
              "    }\n",
              "    60% {\n",
              "      border-color: transparent;\n",
              "      border-right-color: var(--fill-color);\n",
              "    }\n",
              "    80% {\n",
              "      border-color: transparent;\n",
              "      border-right-color: var(--fill-color);\n",
              "      border-bottom-color: var(--fill-color);\n",
              "    }\n",
              "    90% {\n",
              "      border-color: transparent;\n",
              "      border-bottom-color: var(--fill-color);\n",
              "    }\n",
              "  }\n",
              "</style>\n",
              "\n",
              "      <script>\n",
              "        async function quickchart(key) {\n",
              "          const quickchartButtonEl =\n",
              "            document.querySelector('#' + key + ' button');\n",
              "          quickchartButtonEl.disabled = true;  // To prevent multiple clicks.\n",
              "          quickchartButtonEl.classList.add('colab-df-spinner');\n",
              "          try {\n",
              "            const charts = await google.colab.kernel.invokeFunction(\n",
              "                'suggestCharts', [key], {});\n",
              "          } catch (error) {\n",
              "            console.error('Error during call to suggestCharts:', error);\n",
              "          }\n",
              "          quickchartButtonEl.classList.remove('colab-df-spinner');\n",
              "          quickchartButtonEl.classList.add('colab-df-quickchart-complete');\n",
              "        }\n",
              "        (() => {\n",
              "          let quickchartButtonEl =\n",
              "            document.querySelector('#df-374c3338-d738-4768-97de-906b2caf8bc4 button');\n",
              "          quickchartButtonEl.style.display =\n",
              "            google.colab.kernel.accessAllowed ? 'block' : 'none';\n",
              "        })();\n",
              "      </script>\n",
              "    </div>\n",
              "\n",
              "    </div>\n",
              "  </div>\n"
            ],
            "application/vnd.google.colaboratory.intrinsic+json": {
              "type": "dataframe",
              "variable_name": "sale"
            }
          },
          "metadata": {},
          "execution_count": 58
        }
      ]
    },
    {
      "cell_type": "code",
      "source": [
        "subset = sale.loc[0:20000,:]"
      ],
      "metadata": {
        "id": "_6WGju_WnW-P"
      },
      "execution_count": 4,
      "outputs": []
    },
    {
      "cell_type": "code",
      "source": [
        "df = subset.copy()"
      ],
      "metadata": {
        "id": "69zDfb_Rl2Xd"
      },
      "execution_count": 5,
      "outputs": []
    },
    {
      "cell_type": "code",
      "source": [
        "pd.set_option('display.max_rows',None)"
      ],
      "metadata": {
        "id": "nB69ARrjnIF1"
      },
      "execution_count": 6,
      "outputs": []
    },
    {
      "cell_type": "code",
      "source": [
        "pd.set_option('display.max_columns',None)"
      ],
      "metadata": {
        "id": "818OSeyp0VvQ"
      },
      "execution_count": 7,
      "outputs": []
    },
    {
      "cell_type": "code",
      "source": [
        "df['order_id'] = df['order_id'].astype('int64')"
      ],
      "metadata": {
        "id": "BRCg0d1rlv7z"
      },
      "execution_count": 8,
      "outputs": []
    },
    {
      "cell_type": "code",
      "source": [
        "df['order_date'] = pd.to_datetime(df['order_date'], dayfirst=True)"
      ],
      "metadata": {
        "id": "YlPLhAg4l79k"
      },
      "execution_count": 9,
      "outputs": []
    },
    {
      "cell_type": "code",
      "source": [
        "df['status'] = df['status'].str.strip().str.lower().astype('category')"
      ],
      "metadata": {
        "id": "tX27IZTUo075"
      },
      "execution_count": 10,
      "outputs": []
    },
    {
      "cell_type": "code",
      "source": [
        "df['item_id'] = df['item_id'].astype('int64')"
      ],
      "metadata": {
        "id": "vAy6JGFoptWA"
      },
      "execution_count": 11,
      "outputs": []
    },
    {
      "cell_type": "code",
      "source": [
        "df['qty_ordered'] = df['qty_ordered'].astype('int32')"
      ],
      "metadata": {
        "id": "5eeJubKUqVN9"
      },
      "execution_count": 12,
      "outputs": []
    },
    {
      "cell_type": "code",
      "source": [
        "df['price'] = df['price'].astype(float)"
      ],
      "metadata": {
        "id": "L__03JsasEZC"
      },
      "execution_count": 13,
      "outputs": []
    },
    {
      "cell_type": "code",
      "source": [
        "df.rename({'value':'pre_discount_total'},axis=1,inplace=True)"
      ],
      "metadata": {
        "id": "Nkh7XNpiuXzH"
      },
      "execution_count": 14,
      "outputs": []
    },
    {
      "cell_type": "code",
      "source": [
        "df['pre_discount_total'] = df['pre_discount_total'].astype(float)"
      ],
      "metadata": {
        "id": "HV2vae_Hvlvh"
      },
      "execution_count": 15,
      "outputs": []
    },
    {
      "cell_type": "code",
      "source": [
        "# Step 1: Calculate full price (without discount)\n",
        "df['full_price'] = df['qty_ordered'] * df['price']\n",
        "\n",
        "# Step 2: Calculate discount as full_price - value\n",
        "df['calculated_discount'] = df['full_price'] - df['pre_discount_total']\n",
        "\n",
        "# Step 3: Only update discount_amount where it's 0\n",
        "df.loc[df['discount_amount'] == 0, 'discount_amount'] = df.loc[df['discount_amount'] == 0, 'calculated_discount']\n",
        "\n",
        "# Optional: Drop helper column\n",
        "df.drop(columns=['full_price', 'calculated_discount'], inplace=True)"
      ],
      "metadata": {
        "id": "DNs80JJ2vvYx"
      },
      "execution_count": 16,
      "outputs": []
    },
    {
      "cell_type": "code",
      "source": [
        "df['discount_amount'] = df['discount_amount'].astype(float)"
      ],
      "metadata": {
        "id": "VEhWaW0iy2_Y"
      },
      "execution_count": 17,
      "outputs": []
    },
    {
      "cell_type": "code",
      "source": [
        "df['total'] = df['total'].astype(float)"
      ],
      "metadata": {
        "id": "T95noFFszAi0"
      },
      "execution_count": 18,
      "outputs": []
    },
    {
      "cell_type": "code",
      "source": [
        "df['total'] = df['total'].round(1)"
      ],
      "metadata": {
        "id": "uVPXEHdqz79T"
      },
      "execution_count": 19,
      "outputs": []
    },
    {
      "cell_type": "code",
      "source": [
        "df['category'] = df['category'].str.strip().str.replace('&',' ').str.lower().astype('category')"
      ],
      "metadata": {
        "id": "XU97XWzX0dQa"
      },
      "execution_count": 20,
      "outputs": []
    },
    {
      "cell_type": "code",
      "source": [
        "df['payment_method'] = df['payment_method'].str.strip().str.replace('_',' ').str.lower().astype('category')"
      ],
      "metadata": {
        "id": "EgIMMGHQ0_RJ"
      },
      "execution_count": 21,
      "outputs": []
    },
    {
      "cell_type": "code",
      "source": [
        "df.rename(columns={'bi_st': 'sale_status'},inplace=True)"
      ],
      "metadata": {
        "id": "cFmc-eZo1nct"
      },
      "execution_count": 22,
      "outputs": []
    },
    {
      "cell_type": "code",
      "source": [
        "def standardize_sale_status(status):\n",
        "    status = status.lower()  # convert to lowercase for case-insensitive comparison\n",
        "    if status == 'valid':\n",
        "        return 'Completed'\n",
        "    elif status == 'groos':\n",
        "        return 'Total Amount'\n",
        "    elif status == 'net':\n",
        "        return 'Final Amount'\n",
        "    else:\n",
        "        return status  # return original if no match found\n",
        "\n",
        "# Example usage:\n",
        "df['sale_status'] = df['sale_status'].apply(standardize_sale_status)"
      ],
      "metadata": {
        "id": "DHwVZVA-F4_X"
      },
      "execution_count": 23,
      "outputs": []
    },
    {
      "cell_type": "code",
      "source": [
        "df['sale_status'] = df['sale_status'].str.strip().str.lower().astype('category')"
      ],
      "metadata": {
        "id": "1IgybY1lI2oI"
      },
      "execution_count": 24,
      "outputs": []
    },
    {
      "cell_type": "code",
      "source": [
        "df['cust_id'] = df['cust_id'].astype('int64')"
      ],
      "metadata": {
        "id": "-PzEj3RcJOPt"
      },
      "execution_count": 25,
      "outputs": []
    },
    {
      "cell_type": "code",
      "source": [
        "df['year'] = df['year'].astype('category')"
      ],
      "metadata": {
        "id": "od9Z4vI5JgYV"
      },
      "execution_count": 26,
      "outputs": []
    },
    {
      "cell_type": "code",
      "source": [
        "date = df['month'].str.strip().str.split('-').str[1]"
      ],
      "metadata": {
        "id": "PKb41QgLJqmk"
      },
      "execution_count": 27,
      "outputs": []
    },
    {
      "cell_type": "code",
      "source": [
        "df.insert(16,'date',date)"
      ],
      "metadata": {
        "id": "GMYfDTTCKWim"
      },
      "execution_count": 28,
      "outputs": []
    },
    {
      "cell_type": "code",
      "source": [
        "df['date'] = df['date'].astype('int32')"
      ],
      "metadata": {
        "id": "DT2wmHtVK-A7"
      },
      "execution_count": 29,
      "outputs": []
    },
    {
      "cell_type": "code",
      "source": [
        "df['month'] = df['month'].str.strip().str.split('-').str[0]"
      ],
      "metadata": {
        "id": "-WbHsDX3KvBY"
      },
      "execution_count": 30,
      "outputs": []
    },
    {
      "cell_type": "code",
      "source": [
        "df['month'] = df['month'].str.strip().str.lower().astype('category')"
      ],
      "metadata": {
        "id": "Ei0fO2sdLFpB"
      },
      "execution_count": 31,
      "outputs": []
    },
    {
      "cell_type": "code",
      "source": [
        "df['ref_num'] = df['ref_num'].astype('int64')"
      ],
      "metadata": {
        "id": "W4iClOaNLTeQ"
      },
      "execution_count": 32,
      "outputs": []
    },
    {
      "cell_type": "code",
      "source": [
        "df['Name Prefix'] = df['Name Prefix'].str.strip().str.replace('.','').str.lower().astype('category')"
      ],
      "metadata": {
        "id": "TAbTaXftLg4K"
      },
      "execution_count": 33,
      "outputs": []
    },
    {
      "cell_type": "code",
      "source": [
        "df['full_name'] = df['full_name'].str.strip().str.replace(',',' ').str.lower().astype('category')"
      ],
      "metadata": {
        "id": "YulVBPVlM5RL"
      },
      "execution_count": 34,
      "outputs": []
    },
    {
      "cell_type": "code",
      "source": [
        "def categorize_gender(gender_code):\n",
        "\n",
        "    if gender_code == 'F':\n",
        "        return 'Female'\n",
        "    elif gender_code == 'M':\n",
        "        return 'Male'\n",
        "    else:\n",
        "        return 'Unknown'\n",
        "df['Gender'] = df['Gender'].apply(categorize_gender)"
      ],
      "metadata": {
        "id": "AsdTjlG_OH2U"
      },
      "execution_count": 35,
      "outputs": []
    },
    {
      "cell_type": "code",
      "source": [
        "df['Gender'] = df['Gender'].str.strip().str.lower().astype('category')"
      ],
      "metadata": {
        "id": "y858eM-9OpLK"
      },
      "execution_count": 36,
      "outputs": []
    },
    {
      "cell_type": "code",
      "source": [
        "df['age'] = df['age'].astype('int32')"
      ],
      "metadata": {
        "id": "-h-58f8dO2Tp"
      },
      "execution_count": 37,
      "outputs": []
    },
    {
      "cell_type": "code",
      "source": [
        "df['Customer Since'] = pd.to_datetime(df['Customer Since'])"
      ],
      "metadata": {
        "id": "Fuz2KGuJPKFV"
      },
      "execution_count": 38,
      "outputs": []
    },
    {
      "cell_type": "code",
      "source": [
        "df['SSN'] = df['SSN'].str.strip().str.replace('-','').astype('category')"
      ],
      "metadata": {
        "id": "0LUgzi0iQ7F_"
      },
      "execution_count": 39,
      "outputs": []
    },
    {
      "cell_type": "code",
      "source": [
        "df.rename(columns={'SSN':'social_security_number'},inplace=True)"
      ],
      "metadata": {
        "id": "oBmtdxerRfZm"
      },
      "execution_count": 40,
      "outputs": []
    },
    {
      "cell_type": "code",
      "source": [
        "# df['Phone No. '].str.replace('-',' ').value_counts()\n",
        "!pip install phonenumbers\n",
        "import phonenumbers\n",
        "def format_e164(phone):\n",
        "    try:\n",
        "        parsed = phonenumbers.parse(phone, \"US\")\n",
        "        return phonenumbers.format_number(parsed, phonenumbers.PhoneNumberFormat.E164)\n",
        "    except:\n",
        "        return None\n",
        "df['Phone No. '] = df['Phone No. '].apply(format_e164)"
      ],
      "metadata": {
        "colab": {
          "base_uri": "https://localhost:8080/"
        },
        "id": "w6OximvSRayS",
        "outputId": "a8574a04-bcd8-4015-c8c4-149f1125d173"
      },
      "execution_count": 41,
      "outputs": [
        {
          "output_type": "stream",
          "name": "stdout",
          "text": [
            "Collecting phonenumbers\n",
            "  Downloading phonenumbers-9.0.12-py2.py3-none-any.whl.metadata (11 kB)\n",
            "Downloading phonenumbers-9.0.12-py2.py3-none-any.whl (2.6 MB)\n",
            "\u001b[2K   \u001b[90m━━━━━━━━━━━━━━━━━━━━━━━━━━━━━━━━━━━━━━━━\u001b[0m \u001b[32m2.6/2.6 MB\u001b[0m \u001b[31m22.7 MB/s\u001b[0m eta \u001b[36m0:00:00\u001b[0m\n",
            "\u001b[?25hInstalling collected packages: phonenumbers\n",
            "Successfully installed phonenumbers-9.0.12\n"
          ]
        }
      ]
    },
    {
      "cell_type": "code",
      "source": [
        "df['Phone No. '] = df['Phone No. '].astype('category')"
      ],
      "metadata": {
        "id": "Tacptt-RUj6E"
      },
      "execution_count": 42,
      "outputs": []
    },
    {
      "cell_type": "code",
      "source": [
        "df['Place Name'] = df['Place Name'].str.strip().str.lower().astype('category')"
      ],
      "metadata": {
        "id": "heZrpk7nV4uA"
      },
      "execution_count": 43,
      "outputs": []
    },
    {
      "cell_type": "code",
      "source": [
        "df['County'] = df['County'].str.strip().str.lower().astype('category')"
      ],
      "metadata": {
        "id": "6LmDZ_55WKjE"
      },
      "execution_count": 44,
      "outputs": []
    },
    {
      "cell_type": "code",
      "source": [
        "df['City'] = df['City'].str.strip().str.lower().astype('category')"
      ],
      "metadata": {
        "id": "00Q16kk9WUb5"
      },
      "execution_count": 45,
      "outputs": []
    },
    {
      "cell_type": "code",
      "source": [
        "def get_state_full_name(abbreviation):\n",
        "    state_mapping = {\n",
        "        'AL': 'Alabama', 'AK': 'Alaska', 'AZ': 'Arizona', 'AR': 'Arkansas',\n",
        "        'CA': 'California', 'CO': 'Colorado', 'CT': 'Connecticut', 'DE': 'Delaware',\n",
        "        'DC': 'District of Columbia', 'FL': 'Florida', 'GA': 'Georgia', 'HI': 'Hawaii',\n",
        "        'ID': 'Idaho', 'IL': 'Illinois', 'IN': 'Indiana', 'IA': 'Iowa',\n",
        "        'KS': 'Kansas', 'KY': 'Kentucky', 'LA': 'Louisiana', 'ME': 'Maine',\n",
        "        'MD': 'Maryland', 'MA': 'Massachusetts', 'MI': 'Michigan', 'MN': 'Minnesota',\n",
        "        'MS': 'Mississippi', 'MO': 'Missouri', 'MT': 'Montana', 'NE': 'Nebraska',\n",
        "        'NV': 'Nevada', 'NH': 'New Hampshire', 'NJ': 'New Jersey', 'NM': 'New Mexico',\n",
        "        'NY': 'New York', 'NC': 'North Carolina', 'ND': 'North Dakota', 'OH': 'Ohio',\n",
        "        'OK': 'Oklahoma', 'OR': 'Oregon', 'PA': 'Pennsylvania', 'RI': 'Rhode Island',\n",
        "        'SC': 'South Carolina', 'SD': 'South Dakota', 'TN': 'Tennessee', 'TX': 'Texas',\n",
        "        'UT': 'Utah', 'VT': 'Vermont', 'VA': 'Virginia', 'WA': 'Washington',\n",
        "        'WV': 'West Virginia', 'WI': 'Wisconsin', 'WY': 'Wyoming'\n",
        "    }\n",
        "    return state_mapping.get(abbreviation.upper(), abbreviation)\n",
        "\n",
        "df['State'] = df['State'].apply(get_state_full_name)"
      ],
      "metadata": {
        "id": "UHm4aKBCWZGz"
      },
      "execution_count": 46,
      "outputs": []
    },
    {
      "cell_type": "code",
      "source": [
        "df['State'] = df['State'].str.strip().str.lower().astype('category')"
      ],
      "metadata": {
        "id": "99JMn7npYmPa"
      },
      "execution_count": 47,
      "outputs": []
    },
    {
      "cell_type": "code",
      "source": [
        "df['Region'] = df['Region'].str.strip().str.lower().astype('category')"
      ],
      "metadata": {
        "id": "CbstsNPxYwSX"
      },
      "execution_count": 48,
      "outputs": []
    },
    {
      "cell_type": "code",
      "source": [
        "df['User Name'] = df['User Name'].str.strip().str.lower().astype('category')"
      ],
      "metadata": {
        "id": "2Ki4_BckZolu"
      },
      "execution_count": 49,
      "outputs": []
    },
    {
      "cell_type": "code",
      "source": [
        "df['discount_percentage'] = (df['discount_amount'] / df['pre_discount_total']) * 100"
      ],
      "metadata": {
        "id": "Z-klTqvN4iyK"
      },
      "execution_count": 50,
      "outputs": []
    },
    {
      "cell_type": "code",
      "source": [
        "df['E Mail'] = df['E Mail'].astype('category')"
      ],
      "metadata": {
        "id": "P2VUiNSR69k8"
      },
      "execution_count": 51,
      "outputs": []
    },
    {
      "cell_type": "code",
      "source": [
        "df.drop(columns=['sku','First Name','Middle Initial','Last Name','Zip','Discount_Percent'],inplace=True)"
      ],
      "metadata": {
        "id": "nW7Au2-H5pu3"
      },
      "execution_count": 52,
      "outputs": []
    },
    {
      "cell_type": "code",
      "source": [
        "df['discount_amount'] = df['discount_amount'].fillna(200.00000)"
      ],
      "metadata": {
        "id": "IXXuRGD-72Cs"
      },
      "execution_count": 53,
      "outputs": []
    },
    {
      "cell_type": "code",
      "source": [
        "df['year'] = df['year'].astype('int32')"
      ],
      "metadata": {
        "id": "X_8t114RFZp7"
      },
      "execution_count": 60,
      "outputs": []
    },
    {
      "cell_type": "code",
      "source": [
        "# df.to_excel(\"new_sales.xlsx\", index=False, sheet_name=\"new sale_data\")"
      ],
      "metadata": {
        "id": "ArZRyTR38QJP"
      },
      "execution_count": 54,
      "outputs": []
    },
    {
      "cell_type": "code",
      "source": [
        "df.head(10)"
      ],
      "metadata": {
        "colab": {
          "base_uri": "https://localhost:8080/",
          "height": 574
        },
        "id": "vDA_5Fl_oVQ_",
        "outputId": "53a7d053-58c7-48d0-a1d5-56ced589c94e"
      },
      "execution_count": 61,
      "outputs": [
        {
          "output_type": "execute_result",
          "data": {
            "text/plain": [
              "    order_id order_date          status  item_id  qty_ordered  price  \\\n",
              "0  100354678 2020-10-01        received   574772           21   89.9   \n",
              "1  100354678 2020-10-01        received   574774           11   19.0   \n",
              "2  100354680 2020-10-01        complete   574777            9  149.9   \n",
              "3  100354680 2020-10-01        complete   574779            9   79.9   \n",
              "4  100367357 2020-11-13        received   595185            2   99.9   \n",
              "5  100367357 2020-11-13        received   595186            2   39.9   \n",
              "6  100367360 2020-11-13  order_refunded   595192            2   47.6   \n",
              "7  100354677 2020-10-01        canceled   574769            2   49.0   \n",
              "8  100354677 2020-10-01        canceled   574770            2  135.0   \n",
              "9  100354677 2020-10-01        canceled   574771            2  549.9   \n",
              "\n",
              "   pre_discount_total  discount_amount   total           category  \\\n",
              "0              1798.0             89.9  1798.0      men's fashion   \n",
              "1               190.0             19.0   190.0      men's fashion   \n",
              "2              1199.2            149.9  1199.2      men's fashion   \n",
              "3               639.2             79.9   639.2      men's fashion   \n",
              "4                99.9             99.9    99.9      men's fashion   \n",
              "5                39.9             39.9    39.9      men's fashion   \n",
              "6                47.6             47.6    47.6  mobiles   tablets   \n",
              "7                49.0             49.0    49.0  mobiles   tablets   \n",
              "8               135.0            135.0   135.0          computing   \n",
              "9               549.9            549.9   549.9         appliances   \n",
              "\n",
              "  payment_method   sale_status  cust_id  year month  date  ref_num  \\\n",
              "0            cod     completed    60124  2020   oct    20   987867   \n",
              "1            cod     completed    60124  2020   oct    20   987867   \n",
              "2            cod  final amount    60124  2020   oct    20   987867   \n",
              "3            cod  final amount    60124  2020   oct    20   987867   \n",
              "4            cod     completed    60124  2020   nov    20   987867   \n",
              "5            cod     completed    60124  2020   nov    20   987867   \n",
              "6            cod     completed    60124  2020   nov    20   987867   \n",
              "7        payaxis         gross    42485  2020   oct    20   171143   \n",
              "8        payaxis         gross    42485  2020   oct    20   171143   \n",
              "9        payaxis         gross    42485  2020   oct    20   171143   \n",
              "\n",
              "  Name Prefix  Gender  age    full_name                E Mail Customer Since  \\\n",
              "0         drs  female   43  titus  jani  jani.titus@gmail.com     2006-08-22   \n",
              "1         drs  female   43  titus  jani  jani.titus@gmail.com     2006-08-22   \n",
              "2         drs  female   43  titus  jani  jani.titus@gmail.com     2006-08-22   \n",
              "3         drs  female   43  titus  jani  jani.titus@gmail.com     2006-08-22   \n",
              "4         drs  female   43  titus  jani  jani.titus@gmail.com     2006-08-22   \n",
              "5         drs  female   43  titus  jani  jani.titus@gmail.com     2006-08-22   \n",
              "6         drs  female   43  titus  jani  jani.titus@gmail.com     2006-08-22   \n",
              "7        prof    male   28   eaker  lee   lee.eaker@gmail.com     1981-02-04   \n",
              "8        prof    male   28   eaker  lee   lee.eaker@gmail.com     1981-02-04   \n",
              "9        prof    male   28   eaker  lee   lee.eaker@gmail.com     1981-02-04   \n",
              "\n",
              "  social_security_number    Phone No.  Place Name    County    City     State  \\\n",
              "0              627315251  +14059591129     vinson    harmon  vinson  oklahoma   \n",
              "1              627315251  +14059591129     vinson    harmon  vinson  oklahoma   \n",
              "2              627315251  +14059591129     vinson    harmon  vinson  oklahoma   \n",
              "3              627315251  +14059591129     vinson    harmon  vinson  oklahoma   \n",
              "4              627315251  +14059591129     vinson    harmon  vinson  oklahoma   \n",
              "5              627315251  +14059591129     vinson    harmon  vinson  oklahoma   \n",
              "6              627315251  +14059591129     vinson    harmon  vinson  oklahoma   \n",
              "7              185864345  +12393356755     graham  bradford  graham   florida   \n",
              "8              185864345  +12393356755     graham  bradford  graham   florida   \n",
              "9              185864345  +12393356755     graham  bradford  graham   florida   \n",
              "\n",
              "  Region User Name  discount_percentage  \n",
              "0  south   jwtitus                  5.0  \n",
              "1  south   jwtitus                 10.0  \n",
              "2  south   jwtitus                 12.5  \n",
              "3  south   jwtitus                 12.5  \n",
              "4  south   jwtitus                100.0  \n",
              "5  south   jwtitus                100.0  \n",
              "6  south   jwtitus                100.0  \n",
              "7  south   lseaker                100.0  \n",
              "8  south   lseaker                100.0  \n",
              "9  south   lseaker                100.0  "
            ],
            "text/html": [
              "\n",
              "  <div id=\"df-2f9df644-3eae-4952-bf6f-dbc161f8136d\" class=\"colab-df-container\">\n",
              "    <div>\n",
              "<style scoped>\n",
              "    .dataframe tbody tr th:only-of-type {\n",
              "        vertical-align: middle;\n",
              "    }\n",
              "\n",
              "    .dataframe tbody tr th {\n",
              "        vertical-align: top;\n",
              "    }\n",
              "\n",
              "    .dataframe thead th {\n",
              "        text-align: right;\n",
              "    }\n",
              "</style>\n",
              "<table border=\"1\" class=\"dataframe\">\n",
              "  <thead>\n",
              "    <tr style=\"text-align: right;\">\n",
              "      <th></th>\n",
              "      <th>order_id</th>\n",
              "      <th>order_date</th>\n",
              "      <th>status</th>\n",
              "      <th>item_id</th>\n",
              "      <th>qty_ordered</th>\n",
              "      <th>price</th>\n",
              "      <th>pre_discount_total</th>\n",
              "      <th>discount_amount</th>\n",
              "      <th>total</th>\n",
              "      <th>category</th>\n",
              "      <th>payment_method</th>\n",
              "      <th>sale_status</th>\n",
              "      <th>cust_id</th>\n",
              "      <th>year</th>\n",
              "      <th>month</th>\n",
              "      <th>date</th>\n",
              "      <th>ref_num</th>\n",
              "      <th>Name Prefix</th>\n",
              "      <th>Gender</th>\n",
              "      <th>age</th>\n",
              "      <th>full_name</th>\n",
              "      <th>E Mail</th>\n",
              "      <th>Customer Since</th>\n",
              "      <th>social_security_number</th>\n",
              "      <th>Phone No.</th>\n",
              "      <th>Place Name</th>\n",
              "      <th>County</th>\n",
              "      <th>City</th>\n",
              "      <th>State</th>\n",
              "      <th>Region</th>\n",
              "      <th>User Name</th>\n",
              "      <th>discount_percentage</th>\n",
              "    </tr>\n",
              "  </thead>\n",
              "  <tbody>\n",
              "    <tr>\n",
              "      <th>0</th>\n",
              "      <td>100354678</td>\n",
              "      <td>2020-10-01</td>\n",
              "      <td>received</td>\n",
              "      <td>574772</td>\n",
              "      <td>21</td>\n",
              "      <td>89.9</td>\n",
              "      <td>1798.0</td>\n",
              "      <td>89.9</td>\n",
              "      <td>1798.0</td>\n",
              "      <td>men's fashion</td>\n",
              "      <td>cod</td>\n",
              "      <td>completed</td>\n",
              "      <td>60124</td>\n",
              "      <td>2020</td>\n",
              "      <td>oct</td>\n",
              "      <td>20</td>\n",
              "      <td>987867</td>\n",
              "      <td>drs</td>\n",
              "      <td>female</td>\n",
              "      <td>43</td>\n",
              "      <td>titus  jani</td>\n",
              "      <td>jani.titus@gmail.com</td>\n",
              "      <td>2006-08-22</td>\n",
              "      <td>627315251</td>\n",
              "      <td>+14059591129</td>\n",
              "      <td>vinson</td>\n",
              "      <td>harmon</td>\n",
              "      <td>vinson</td>\n",
              "      <td>oklahoma</td>\n",
              "      <td>south</td>\n",
              "      <td>jwtitus</td>\n",
              "      <td>5.0</td>\n",
              "    </tr>\n",
              "    <tr>\n",
              "      <th>1</th>\n",
              "      <td>100354678</td>\n",
              "      <td>2020-10-01</td>\n",
              "      <td>received</td>\n",
              "      <td>574774</td>\n",
              "      <td>11</td>\n",
              "      <td>19.0</td>\n",
              "      <td>190.0</td>\n",
              "      <td>19.0</td>\n",
              "      <td>190.0</td>\n",
              "      <td>men's fashion</td>\n",
              "      <td>cod</td>\n",
              "      <td>completed</td>\n",
              "      <td>60124</td>\n",
              "      <td>2020</td>\n",
              "      <td>oct</td>\n",
              "      <td>20</td>\n",
              "      <td>987867</td>\n",
              "      <td>drs</td>\n",
              "      <td>female</td>\n",
              "      <td>43</td>\n",
              "      <td>titus  jani</td>\n",
              "      <td>jani.titus@gmail.com</td>\n",
              "      <td>2006-08-22</td>\n",
              "      <td>627315251</td>\n",
              "      <td>+14059591129</td>\n",
              "      <td>vinson</td>\n",
              "      <td>harmon</td>\n",
              "      <td>vinson</td>\n",
              "      <td>oklahoma</td>\n",
              "      <td>south</td>\n",
              "      <td>jwtitus</td>\n",
              "      <td>10.0</td>\n",
              "    </tr>\n",
              "    <tr>\n",
              "      <th>2</th>\n",
              "      <td>100354680</td>\n",
              "      <td>2020-10-01</td>\n",
              "      <td>complete</td>\n",
              "      <td>574777</td>\n",
              "      <td>9</td>\n",
              "      <td>149.9</td>\n",
              "      <td>1199.2</td>\n",
              "      <td>149.9</td>\n",
              "      <td>1199.2</td>\n",
              "      <td>men's fashion</td>\n",
              "      <td>cod</td>\n",
              "      <td>final amount</td>\n",
              "      <td>60124</td>\n",
              "      <td>2020</td>\n",
              "      <td>oct</td>\n",
              "      <td>20</td>\n",
              "      <td>987867</td>\n",
              "      <td>drs</td>\n",
              "      <td>female</td>\n",
              "      <td>43</td>\n",
              "      <td>titus  jani</td>\n",
              "      <td>jani.titus@gmail.com</td>\n",
              "      <td>2006-08-22</td>\n",
              "      <td>627315251</td>\n",
              "      <td>+14059591129</td>\n",
              "      <td>vinson</td>\n",
              "      <td>harmon</td>\n",
              "      <td>vinson</td>\n",
              "      <td>oklahoma</td>\n",
              "      <td>south</td>\n",
              "      <td>jwtitus</td>\n",
              "      <td>12.5</td>\n",
              "    </tr>\n",
              "    <tr>\n",
              "      <th>3</th>\n",
              "      <td>100354680</td>\n",
              "      <td>2020-10-01</td>\n",
              "      <td>complete</td>\n",
              "      <td>574779</td>\n",
              "      <td>9</td>\n",
              "      <td>79.9</td>\n",
              "      <td>639.2</td>\n",
              "      <td>79.9</td>\n",
              "      <td>639.2</td>\n",
              "      <td>men's fashion</td>\n",
              "      <td>cod</td>\n",
              "      <td>final amount</td>\n",
              "      <td>60124</td>\n",
              "      <td>2020</td>\n",
              "      <td>oct</td>\n",
              "      <td>20</td>\n",
              "      <td>987867</td>\n",
              "      <td>drs</td>\n",
              "      <td>female</td>\n",
              "      <td>43</td>\n",
              "      <td>titus  jani</td>\n",
              "      <td>jani.titus@gmail.com</td>\n",
              "      <td>2006-08-22</td>\n",
              "      <td>627315251</td>\n",
              "      <td>+14059591129</td>\n",
              "      <td>vinson</td>\n",
              "      <td>harmon</td>\n",
              "      <td>vinson</td>\n",
              "      <td>oklahoma</td>\n",
              "      <td>south</td>\n",
              "      <td>jwtitus</td>\n",
              "      <td>12.5</td>\n",
              "    </tr>\n",
              "    <tr>\n",
              "      <th>4</th>\n",
              "      <td>100367357</td>\n",
              "      <td>2020-11-13</td>\n",
              "      <td>received</td>\n",
              "      <td>595185</td>\n",
              "      <td>2</td>\n",
              "      <td>99.9</td>\n",
              "      <td>99.9</td>\n",
              "      <td>99.9</td>\n",
              "      <td>99.9</td>\n",
              "      <td>men's fashion</td>\n",
              "      <td>cod</td>\n",
              "      <td>completed</td>\n",
              "      <td>60124</td>\n",
              "      <td>2020</td>\n",
              "      <td>nov</td>\n",
              "      <td>20</td>\n",
              "      <td>987867</td>\n",
              "      <td>drs</td>\n",
              "      <td>female</td>\n",
              "      <td>43</td>\n",
              "      <td>titus  jani</td>\n",
              "      <td>jani.titus@gmail.com</td>\n",
              "      <td>2006-08-22</td>\n",
              "      <td>627315251</td>\n",
              "      <td>+14059591129</td>\n",
              "      <td>vinson</td>\n",
              "      <td>harmon</td>\n",
              "      <td>vinson</td>\n",
              "      <td>oklahoma</td>\n",
              "      <td>south</td>\n",
              "      <td>jwtitus</td>\n",
              "      <td>100.0</td>\n",
              "    </tr>\n",
              "    <tr>\n",
              "      <th>5</th>\n",
              "      <td>100367357</td>\n",
              "      <td>2020-11-13</td>\n",
              "      <td>received</td>\n",
              "      <td>595186</td>\n",
              "      <td>2</td>\n",
              "      <td>39.9</td>\n",
              "      <td>39.9</td>\n",
              "      <td>39.9</td>\n",
              "      <td>39.9</td>\n",
              "      <td>men's fashion</td>\n",
              "      <td>cod</td>\n",
              "      <td>completed</td>\n",
              "      <td>60124</td>\n",
              "      <td>2020</td>\n",
              "      <td>nov</td>\n",
              "      <td>20</td>\n",
              "      <td>987867</td>\n",
              "      <td>drs</td>\n",
              "      <td>female</td>\n",
              "      <td>43</td>\n",
              "      <td>titus  jani</td>\n",
              "      <td>jani.titus@gmail.com</td>\n",
              "      <td>2006-08-22</td>\n",
              "      <td>627315251</td>\n",
              "      <td>+14059591129</td>\n",
              "      <td>vinson</td>\n",
              "      <td>harmon</td>\n",
              "      <td>vinson</td>\n",
              "      <td>oklahoma</td>\n",
              "      <td>south</td>\n",
              "      <td>jwtitus</td>\n",
              "      <td>100.0</td>\n",
              "    </tr>\n",
              "    <tr>\n",
              "      <th>6</th>\n",
              "      <td>100367360</td>\n",
              "      <td>2020-11-13</td>\n",
              "      <td>order_refunded</td>\n",
              "      <td>595192</td>\n",
              "      <td>2</td>\n",
              "      <td>47.6</td>\n",
              "      <td>47.6</td>\n",
              "      <td>47.6</td>\n",
              "      <td>47.6</td>\n",
              "      <td>mobiles   tablets</td>\n",
              "      <td>cod</td>\n",
              "      <td>completed</td>\n",
              "      <td>60124</td>\n",
              "      <td>2020</td>\n",
              "      <td>nov</td>\n",
              "      <td>20</td>\n",
              "      <td>987867</td>\n",
              "      <td>drs</td>\n",
              "      <td>female</td>\n",
              "      <td>43</td>\n",
              "      <td>titus  jani</td>\n",
              "      <td>jani.titus@gmail.com</td>\n",
              "      <td>2006-08-22</td>\n",
              "      <td>627315251</td>\n",
              "      <td>+14059591129</td>\n",
              "      <td>vinson</td>\n",
              "      <td>harmon</td>\n",
              "      <td>vinson</td>\n",
              "      <td>oklahoma</td>\n",
              "      <td>south</td>\n",
              "      <td>jwtitus</td>\n",
              "      <td>100.0</td>\n",
              "    </tr>\n",
              "    <tr>\n",
              "      <th>7</th>\n",
              "      <td>100354677</td>\n",
              "      <td>2020-10-01</td>\n",
              "      <td>canceled</td>\n",
              "      <td>574769</td>\n",
              "      <td>2</td>\n",
              "      <td>49.0</td>\n",
              "      <td>49.0</td>\n",
              "      <td>49.0</td>\n",
              "      <td>49.0</td>\n",
              "      <td>mobiles   tablets</td>\n",
              "      <td>payaxis</td>\n",
              "      <td>gross</td>\n",
              "      <td>42485</td>\n",
              "      <td>2020</td>\n",
              "      <td>oct</td>\n",
              "      <td>20</td>\n",
              "      <td>171143</td>\n",
              "      <td>prof</td>\n",
              "      <td>male</td>\n",
              "      <td>28</td>\n",
              "      <td>eaker  lee</td>\n",
              "      <td>lee.eaker@gmail.com</td>\n",
              "      <td>1981-02-04</td>\n",
              "      <td>185864345</td>\n",
              "      <td>+12393356755</td>\n",
              "      <td>graham</td>\n",
              "      <td>bradford</td>\n",
              "      <td>graham</td>\n",
              "      <td>florida</td>\n",
              "      <td>south</td>\n",
              "      <td>lseaker</td>\n",
              "      <td>100.0</td>\n",
              "    </tr>\n",
              "    <tr>\n",
              "      <th>8</th>\n",
              "      <td>100354677</td>\n",
              "      <td>2020-10-01</td>\n",
              "      <td>canceled</td>\n",
              "      <td>574770</td>\n",
              "      <td>2</td>\n",
              "      <td>135.0</td>\n",
              "      <td>135.0</td>\n",
              "      <td>135.0</td>\n",
              "      <td>135.0</td>\n",
              "      <td>computing</td>\n",
              "      <td>payaxis</td>\n",
              "      <td>gross</td>\n",
              "      <td>42485</td>\n",
              "      <td>2020</td>\n",
              "      <td>oct</td>\n",
              "      <td>20</td>\n",
              "      <td>171143</td>\n",
              "      <td>prof</td>\n",
              "      <td>male</td>\n",
              "      <td>28</td>\n",
              "      <td>eaker  lee</td>\n",
              "      <td>lee.eaker@gmail.com</td>\n",
              "      <td>1981-02-04</td>\n",
              "      <td>185864345</td>\n",
              "      <td>+12393356755</td>\n",
              "      <td>graham</td>\n",
              "      <td>bradford</td>\n",
              "      <td>graham</td>\n",
              "      <td>florida</td>\n",
              "      <td>south</td>\n",
              "      <td>lseaker</td>\n",
              "      <td>100.0</td>\n",
              "    </tr>\n",
              "    <tr>\n",
              "      <th>9</th>\n",
              "      <td>100354677</td>\n",
              "      <td>2020-10-01</td>\n",
              "      <td>canceled</td>\n",
              "      <td>574771</td>\n",
              "      <td>2</td>\n",
              "      <td>549.9</td>\n",
              "      <td>549.9</td>\n",
              "      <td>549.9</td>\n",
              "      <td>549.9</td>\n",
              "      <td>appliances</td>\n",
              "      <td>payaxis</td>\n",
              "      <td>gross</td>\n",
              "      <td>42485</td>\n",
              "      <td>2020</td>\n",
              "      <td>oct</td>\n",
              "      <td>20</td>\n",
              "      <td>171143</td>\n",
              "      <td>prof</td>\n",
              "      <td>male</td>\n",
              "      <td>28</td>\n",
              "      <td>eaker  lee</td>\n",
              "      <td>lee.eaker@gmail.com</td>\n",
              "      <td>1981-02-04</td>\n",
              "      <td>185864345</td>\n",
              "      <td>+12393356755</td>\n",
              "      <td>graham</td>\n",
              "      <td>bradford</td>\n",
              "      <td>graham</td>\n",
              "      <td>florida</td>\n",
              "      <td>south</td>\n",
              "      <td>lseaker</td>\n",
              "      <td>100.0</td>\n",
              "    </tr>\n",
              "  </tbody>\n",
              "</table>\n",
              "</div>\n",
              "    <div class=\"colab-df-buttons\">\n",
              "\n",
              "  <div class=\"colab-df-container\">\n",
              "    <button class=\"colab-df-convert\" onclick=\"convertToInteractive('df-2f9df644-3eae-4952-bf6f-dbc161f8136d')\"\n",
              "            title=\"Convert this dataframe to an interactive table.\"\n",
              "            style=\"display:none;\">\n",
              "\n",
              "  <svg xmlns=\"http://www.w3.org/2000/svg\" height=\"24px\" viewBox=\"0 -960 960 960\">\n",
              "    <path d=\"M120-120v-720h720v720H120Zm60-500h600v-160H180v160Zm220 220h160v-160H400v160Zm0 220h160v-160H400v160ZM180-400h160v-160H180v160Zm440 0h160v-160H620v160ZM180-180h160v-160H180v160Zm440 0h160v-160H620v160Z\"/>\n",
              "  </svg>\n",
              "    </button>\n",
              "\n",
              "  <style>\n",
              "    .colab-df-container {\n",
              "      display:flex;\n",
              "      gap: 12px;\n",
              "    }\n",
              "\n",
              "    .colab-df-convert {\n",
              "      background-color: #E8F0FE;\n",
              "      border: none;\n",
              "      border-radius: 50%;\n",
              "      cursor: pointer;\n",
              "      display: none;\n",
              "      fill: #1967D2;\n",
              "      height: 32px;\n",
              "      padding: 0 0 0 0;\n",
              "      width: 32px;\n",
              "    }\n",
              "\n",
              "    .colab-df-convert:hover {\n",
              "      background-color: #E2EBFA;\n",
              "      box-shadow: 0px 1px 2px rgba(60, 64, 67, 0.3), 0px 1px 3px 1px rgba(60, 64, 67, 0.15);\n",
              "      fill: #174EA6;\n",
              "    }\n",
              "\n",
              "    .colab-df-buttons div {\n",
              "      margin-bottom: 4px;\n",
              "    }\n",
              "\n",
              "    [theme=dark] .colab-df-convert {\n",
              "      background-color: #3B4455;\n",
              "      fill: #D2E3FC;\n",
              "    }\n",
              "\n",
              "    [theme=dark] .colab-df-convert:hover {\n",
              "      background-color: #434B5C;\n",
              "      box-shadow: 0px 1px 3px 1px rgba(0, 0, 0, 0.15);\n",
              "      filter: drop-shadow(0px 1px 2px rgba(0, 0, 0, 0.3));\n",
              "      fill: #FFFFFF;\n",
              "    }\n",
              "  </style>\n",
              "\n",
              "    <script>\n",
              "      const buttonEl =\n",
              "        document.querySelector('#df-2f9df644-3eae-4952-bf6f-dbc161f8136d button.colab-df-convert');\n",
              "      buttonEl.style.display =\n",
              "        google.colab.kernel.accessAllowed ? 'block' : 'none';\n",
              "\n",
              "      async function convertToInteractive(key) {\n",
              "        const element = document.querySelector('#df-2f9df644-3eae-4952-bf6f-dbc161f8136d');\n",
              "        const dataTable =\n",
              "          await google.colab.kernel.invokeFunction('convertToInteractive',\n",
              "                                                    [key], {});\n",
              "        if (!dataTable) return;\n",
              "\n",
              "        const docLinkHtml = 'Like what you see? Visit the ' +\n",
              "          '<a target=\"_blank\" href=https://colab.research.google.com/notebooks/data_table.ipynb>data table notebook</a>'\n",
              "          + ' to learn more about interactive tables.';\n",
              "        element.innerHTML = '';\n",
              "        dataTable['output_type'] = 'display_data';\n",
              "        await google.colab.output.renderOutput(dataTable, element);\n",
              "        const docLink = document.createElement('div');\n",
              "        docLink.innerHTML = docLinkHtml;\n",
              "        element.appendChild(docLink);\n",
              "      }\n",
              "    </script>\n",
              "  </div>\n",
              "\n",
              "\n",
              "    <div id=\"df-0031f39d-9dc4-4839-a6ac-e940e6cc73a2\">\n",
              "      <button class=\"colab-df-quickchart\" onclick=\"quickchart('df-0031f39d-9dc4-4839-a6ac-e940e6cc73a2')\"\n",
              "                title=\"Suggest charts\"\n",
              "                style=\"display:none;\">\n",
              "\n",
              "<svg xmlns=\"http://www.w3.org/2000/svg\" height=\"24px\"viewBox=\"0 0 24 24\"\n",
              "     width=\"24px\">\n",
              "    <g>\n",
              "        <path d=\"M19 3H5c-1.1 0-2 .9-2 2v14c0 1.1.9 2 2 2h14c1.1 0 2-.9 2-2V5c0-1.1-.9-2-2-2zM9 17H7v-7h2v7zm4 0h-2V7h2v10zm4 0h-2v-4h2v4z\"/>\n",
              "    </g>\n",
              "</svg>\n",
              "      </button>\n",
              "\n",
              "<style>\n",
              "  .colab-df-quickchart {\n",
              "      --bg-color: #E8F0FE;\n",
              "      --fill-color: #1967D2;\n",
              "      --hover-bg-color: #E2EBFA;\n",
              "      --hover-fill-color: #174EA6;\n",
              "      --disabled-fill-color: #AAA;\n",
              "      --disabled-bg-color: #DDD;\n",
              "  }\n",
              "\n",
              "  [theme=dark] .colab-df-quickchart {\n",
              "      --bg-color: #3B4455;\n",
              "      --fill-color: #D2E3FC;\n",
              "      --hover-bg-color: #434B5C;\n",
              "      --hover-fill-color: #FFFFFF;\n",
              "      --disabled-bg-color: #3B4455;\n",
              "      --disabled-fill-color: #666;\n",
              "  }\n",
              "\n",
              "  .colab-df-quickchart {\n",
              "    background-color: var(--bg-color);\n",
              "    border: none;\n",
              "    border-radius: 50%;\n",
              "    cursor: pointer;\n",
              "    display: none;\n",
              "    fill: var(--fill-color);\n",
              "    height: 32px;\n",
              "    padding: 0;\n",
              "    width: 32px;\n",
              "  }\n",
              "\n",
              "  .colab-df-quickchart:hover {\n",
              "    background-color: var(--hover-bg-color);\n",
              "    box-shadow: 0 1px 2px rgba(60, 64, 67, 0.3), 0 1px 3px 1px rgba(60, 64, 67, 0.15);\n",
              "    fill: var(--button-hover-fill-color);\n",
              "  }\n",
              "\n",
              "  .colab-df-quickchart-complete:disabled,\n",
              "  .colab-df-quickchart-complete:disabled:hover {\n",
              "    background-color: var(--disabled-bg-color);\n",
              "    fill: var(--disabled-fill-color);\n",
              "    box-shadow: none;\n",
              "  }\n",
              "\n",
              "  .colab-df-spinner {\n",
              "    border: 2px solid var(--fill-color);\n",
              "    border-color: transparent;\n",
              "    border-bottom-color: var(--fill-color);\n",
              "    animation:\n",
              "      spin 1s steps(1) infinite;\n",
              "  }\n",
              "\n",
              "  @keyframes spin {\n",
              "    0% {\n",
              "      border-color: transparent;\n",
              "      border-bottom-color: var(--fill-color);\n",
              "      border-left-color: var(--fill-color);\n",
              "    }\n",
              "    20% {\n",
              "      border-color: transparent;\n",
              "      border-left-color: var(--fill-color);\n",
              "      border-top-color: var(--fill-color);\n",
              "    }\n",
              "    30% {\n",
              "      border-color: transparent;\n",
              "      border-left-color: var(--fill-color);\n",
              "      border-top-color: var(--fill-color);\n",
              "      border-right-color: var(--fill-color);\n",
              "    }\n",
              "    40% {\n",
              "      border-color: transparent;\n",
              "      border-right-color: var(--fill-color);\n",
              "      border-top-color: var(--fill-color);\n",
              "    }\n",
              "    60% {\n",
              "      border-color: transparent;\n",
              "      border-right-color: var(--fill-color);\n",
              "    }\n",
              "    80% {\n",
              "      border-color: transparent;\n",
              "      border-right-color: var(--fill-color);\n",
              "      border-bottom-color: var(--fill-color);\n",
              "    }\n",
              "    90% {\n",
              "      border-color: transparent;\n",
              "      border-bottom-color: var(--fill-color);\n",
              "    }\n",
              "  }\n",
              "</style>\n",
              "\n",
              "      <script>\n",
              "        async function quickchart(key) {\n",
              "          const quickchartButtonEl =\n",
              "            document.querySelector('#' + key + ' button');\n",
              "          quickchartButtonEl.disabled = true;  // To prevent multiple clicks.\n",
              "          quickchartButtonEl.classList.add('colab-df-spinner');\n",
              "          try {\n",
              "            const charts = await google.colab.kernel.invokeFunction(\n",
              "                'suggestCharts', [key], {});\n",
              "          } catch (error) {\n",
              "            console.error('Error during call to suggestCharts:', error);\n",
              "          }\n",
              "          quickchartButtonEl.classList.remove('colab-df-spinner');\n",
              "          quickchartButtonEl.classList.add('colab-df-quickchart-complete');\n",
              "        }\n",
              "        (() => {\n",
              "          let quickchartButtonEl =\n",
              "            document.querySelector('#df-0031f39d-9dc4-4839-a6ac-e940e6cc73a2 button');\n",
              "          quickchartButtonEl.style.display =\n",
              "            google.colab.kernel.accessAllowed ? 'block' : 'none';\n",
              "        })();\n",
              "      </script>\n",
              "    </div>\n",
              "\n",
              "    </div>\n",
              "  </div>\n"
            ],
            "application/vnd.google.colaboratory.intrinsic+json": {
              "type": "dataframe",
              "variable_name": "df"
            }
          },
          "metadata": {},
          "execution_count": 61
        }
      ]
    },
    {
      "cell_type": "code",
      "source": [
        "df.info()"
      ],
      "metadata": {
        "colab": {
          "base_uri": "https://localhost:8080/"
        },
        "id": "7omjKywjoxMX",
        "outputId": "67ee0e55-1a88-4315-e23c-d355b8bbda8e"
      },
      "execution_count": 56,
      "outputs": [
        {
          "output_type": "stream",
          "name": "stdout",
          "text": [
            "<class 'pandas.core.frame.DataFrame'>\n",
            "RangeIndex: 20001 entries, 0 to 20000\n",
            "Data columns (total 32 columns):\n",
            " #   Column                  Non-Null Count  Dtype         \n",
            "---  ------                  --------------  -----         \n",
            " 0   order_id                20001 non-null  int64         \n",
            " 1   order_date              20001 non-null  datetime64[ns]\n",
            " 2   status                  20001 non-null  category      \n",
            " 3   item_id                 20001 non-null  int64         \n",
            " 4   qty_ordered             20001 non-null  int32         \n",
            " 5   price                   20001 non-null  float64       \n",
            " 6   pre_discount_total      20001 non-null  float64       \n",
            " 7   discount_amount         20001 non-null  float64       \n",
            " 8   total                   20001 non-null  float64       \n",
            " 9   category                20001 non-null  category      \n",
            " 10  payment_method          20001 non-null  category      \n",
            " 11  sale_status             20001 non-null  category      \n",
            " 12  cust_id                 20001 non-null  int64         \n",
            " 13  year                    20001 non-null  category      \n",
            " 14  month                   20001 non-null  category      \n",
            " 15  date                    20001 non-null  int32         \n",
            " 16  ref_num                 20001 non-null  int64         \n",
            " 17  Name Prefix             20001 non-null  category      \n",
            " 18  Gender                  20001 non-null  category      \n",
            " 19  age                     20001 non-null  int32         \n",
            " 20  full_name               20001 non-null  category      \n",
            " 21  E Mail                  20001 non-null  category      \n",
            " 22  Customer Since          20001 non-null  datetime64[ns]\n",
            " 23  social_security_number  20001 non-null  category      \n",
            " 24  Phone No.               20001 non-null  category      \n",
            " 25  Place Name              20001 non-null  category      \n",
            " 26  County                  20001 non-null  category      \n",
            " 27  City                    20001 non-null  category      \n",
            " 28  State                   20001 non-null  category      \n",
            " 29  Region                  20001 non-null  category      \n",
            " 30  User Name               20001 non-null  category      \n",
            " 31  discount_percentage     19865 non-null  float64       \n",
            "dtypes: category(18), datetime64[ns](2), float64(5), int32(3), int64(4)\n",
            "memory usage: 2.9 MB\n"
          ]
        }
      ]
    },
    {
      "cell_type": "code",
      "source": [],
      "metadata": {
        "id": "w0aCYJeOQflV"
      },
      "execution_count": 56,
      "outputs": []
    }
  ]
}